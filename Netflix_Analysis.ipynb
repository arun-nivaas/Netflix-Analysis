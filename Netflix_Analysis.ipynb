{
 "cells": [
  {
   "cell_type": "markdown",
   "id": "0f23b838",
   "metadata": {},
   "source": [
    "# Netflix Dataset"
   ]
  },
  {
   "cell_type": "markdown",
   "id": "9ae8588d",
   "metadata": {},
   "source": [
    "Netflix is one of the most popular media and video streaming platforms. They have over 10000 movies or tv shows available on their platform, as of mid-2021, they have over 222M Subscribers globally. This tabular dataset consists of listings of all the movies and tv shows available on Netflix, along with details such as - cast, directors, ratings, release year, duration, etc."
   ]
  },
  {
   "cell_type": "markdown",
   "id": "e5055890",
   "metadata": {},
   "source": [
    "## Business Problem"
   ]
  },
  {
   "cell_type": "markdown",
   "id": "2dc85286",
   "metadata": {},
   "source": [
    "1.Analyze the data and generate insights that could help Netflix in deciding which type of shows/movies to produce.\n",
    " \n",
    " \n",
    "2.How they can grow the business in different countries."
   ]
  },
  {
   "cell_type": "markdown",
   "id": "623b0513",
   "metadata": {},
   "source": [
    "## Dataset Preview"
   ]
  },
  {
   "cell_type": "markdown",
   "id": "84585b8d",
   "metadata": {},
   "source": [
    "### Accessing the modules"
   ]
  },
  {
   "cell_type": "code",
   "execution_count": 255,
   "id": "f2e43b2a",
   "metadata": {},
   "outputs": [],
   "source": [
    "# import required modules for the analysis.\n",
    "\n",
    "import numpy as np\n",
    "import pandas as pd\n",
    "import matplotlib.pyplot as plt\n",
    "import seaborn as sns"
   ]
  },
  {
   "cell_type": "markdown",
   "id": "951dc3f6",
   "metadata": {},
   "source": [
    "### Load the Dataset\n",
    "\n",
    "To Load the Dataset, we have to use the Pandas function  **pd.read_csv()**  and  **head()**  will the show the dataset (First Five records)."
   ]
  },
  {
   "cell_type": "code",
   "execution_count": 256,
   "id": "093fe959",
   "metadata": {},
   "outputs": [
    {
     "data": {
      "text/html": [
       "<div>\n",
       "<style scoped>\n",
       "    .dataframe tbody tr th:only-of-type {\n",
       "        vertical-align: middle;\n",
       "    }\n",
       "\n",
       "    .dataframe tbody tr th {\n",
       "        vertical-align: top;\n",
       "    }\n",
       "\n",
       "    .dataframe thead th {\n",
       "        text-align: right;\n",
       "    }\n",
       "</style>\n",
       "<table border=\"1\" class=\"dataframe\">\n",
       "  <thead>\n",
       "    <tr style=\"text-align: right;\">\n",
       "      <th></th>\n",
       "      <th>show_id</th>\n",
       "      <th>type</th>\n",
       "      <th>title</th>\n",
       "      <th>director</th>\n",
       "      <th>cast</th>\n",
       "      <th>country</th>\n",
       "      <th>date_added</th>\n",
       "      <th>release_year</th>\n",
       "      <th>rating</th>\n",
       "      <th>duration</th>\n",
       "      <th>listed_in</th>\n",
       "      <th>description</th>\n",
       "    </tr>\n",
       "  </thead>\n",
       "  <tbody>\n",
       "    <tr>\n",
       "      <th>0</th>\n",
       "      <td>s1</td>\n",
       "      <td>Movie</td>\n",
       "      <td>Dick Johnson Is Dead</td>\n",
       "      <td>Kirsten Johnson</td>\n",
       "      <td>NaN</td>\n",
       "      <td>United States</td>\n",
       "      <td>September 25, 2021</td>\n",
       "      <td>2020</td>\n",
       "      <td>PG-13</td>\n",
       "      <td>90 min</td>\n",
       "      <td>Documentaries</td>\n",
       "      <td>As her father nears the end of his life, filmm...</td>\n",
       "    </tr>\n",
       "    <tr>\n",
       "      <th>1</th>\n",
       "      <td>s2</td>\n",
       "      <td>TV Show</td>\n",
       "      <td>Blood &amp; Water</td>\n",
       "      <td>NaN</td>\n",
       "      <td>Ama Qamata, Khosi Ngema, Gail Mabalane, Thaban...</td>\n",
       "      <td>South Africa</td>\n",
       "      <td>September 24, 2021</td>\n",
       "      <td>2021</td>\n",
       "      <td>TV-MA</td>\n",
       "      <td>2 Seasons</td>\n",
       "      <td>International TV Shows, TV Dramas, TV Mysteries</td>\n",
       "      <td>After crossing paths at a party, a Cape Town t...</td>\n",
       "    </tr>\n",
       "    <tr>\n",
       "      <th>2</th>\n",
       "      <td>s3</td>\n",
       "      <td>TV Show</td>\n",
       "      <td>Ganglands</td>\n",
       "      <td>Julien Leclercq</td>\n",
       "      <td>Sami Bouajila, Tracy Gotoas, Samuel Jouy, Nabi...</td>\n",
       "      <td>NaN</td>\n",
       "      <td>September 24, 2021</td>\n",
       "      <td>2021</td>\n",
       "      <td>TV-MA</td>\n",
       "      <td>1 Season</td>\n",
       "      <td>Crime TV Shows, International TV Shows, TV Act...</td>\n",
       "      <td>To protect his family from a powerful drug lor...</td>\n",
       "    </tr>\n",
       "    <tr>\n",
       "      <th>3</th>\n",
       "      <td>s4</td>\n",
       "      <td>TV Show</td>\n",
       "      <td>Jailbirds New Orleans</td>\n",
       "      <td>NaN</td>\n",
       "      <td>NaN</td>\n",
       "      <td>NaN</td>\n",
       "      <td>September 24, 2021</td>\n",
       "      <td>2021</td>\n",
       "      <td>TV-MA</td>\n",
       "      <td>1 Season</td>\n",
       "      <td>Docuseries, Reality TV</td>\n",
       "      <td>Feuds, flirtations and toilet talk go down amo...</td>\n",
       "    </tr>\n",
       "    <tr>\n",
       "      <th>4</th>\n",
       "      <td>s5</td>\n",
       "      <td>TV Show</td>\n",
       "      <td>Kota Factory</td>\n",
       "      <td>NaN</td>\n",
       "      <td>Mayur More, Jitendra Kumar, Ranjan Raj, Alam K...</td>\n",
       "      <td>India</td>\n",
       "      <td>September 24, 2021</td>\n",
       "      <td>2021</td>\n",
       "      <td>TV-MA</td>\n",
       "      <td>2 Seasons</td>\n",
       "      <td>International TV Shows, Romantic TV Shows, TV ...</td>\n",
       "      <td>In a city of coaching centers known to train I...</td>\n",
       "    </tr>\n",
       "  </tbody>\n",
       "</table>\n",
       "</div>"
      ],
      "text/plain": [
       "  show_id     type                  title         director  \\\n",
       "0      s1    Movie   Dick Johnson Is Dead  Kirsten Johnson   \n",
       "1      s2  TV Show          Blood & Water              NaN   \n",
       "2      s3  TV Show              Ganglands  Julien Leclercq   \n",
       "3      s4  TV Show  Jailbirds New Orleans              NaN   \n",
       "4      s5  TV Show           Kota Factory              NaN   \n",
       "\n",
       "                                                cast        country  \\\n",
       "0                                                NaN  United States   \n",
       "1  Ama Qamata, Khosi Ngema, Gail Mabalane, Thaban...   South Africa   \n",
       "2  Sami Bouajila, Tracy Gotoas, Samuel Jouy, Nabi...            NaN   \n",
       "3                                                NaN            NaN   \n",
       "4  Mayur More, Jitendra Kumar, Ranjan Raj, Alam K...          India   \n",
       "\n",
       "           date_added  release_year rating   duration  \\\n",
       "0  September 25, 2021          2020  PG-13     90 min   \n",
       "1  September 24, 2021          2021  TV-MA  2 Seasons   \n",
       "2  September 24, 2021          2021  TV-MA   1 Season   \n",
       "3  September 24, 2021          2021  TV-MA   1 Season   \n",
       "4  September 24, 2021          2021  TV-MA  2 Seasons   \n",
       "\n",
       "                                           listed_in  \\\n",
       "0                                      Documentaries   \n",
       "1    International TV Shows, TV Dramas, TV Mysteries   \n",
       "2  Crime TV Shows, International TV Shows, TV Act...   \n",
       "3                             Docuseries, Reality TV   \n",
       "4  International TV Shows, Romantic TV Shows, TV ...   \n",
       "\n",
       "                                         description  \n",
       "0  As her father nears the end of his life, filmm...  \n",
       "1  After crossing paths at a party, a Cape Town t...  \n",
       "2  To protect his family from a powerful drug lor...  \n",
       "3  Feuds, flirtations and toilet talk go down amo...  \n",
       "4  In a city of coaching centers known to train I...  "
      ]
     },
     "execution_count": 256,
     "metadata": {},
     "output_type": "execute_result"
    }
   ],
   "source": [
    "data = pd.read_csv(\"Netflix_Dataset.csv\")\n",
    "data.head()"
   ]
  },
  {
   "cell_type": "markdown",
   "id": "3a8c8d01",
   "metadata": {},
   "source": [
    "### Analyzing Each Columns\n",
    "\n",
    "• Show_id : Unique ID for every Movie / Tv Show\n",
    "\n",
    "• Type : Identifier - A Movie or TV Show\n",
    "\n",
    "• Title : Title of the Movie / Tv Show\n",
    "\n",
    "• Director : Director of the Movie\n",
    "\n",
    "• Cast : Actors involved in the movie/Tv show\n",
    "\n",
    "• Country : Country where the movie/Tv show was produced\n",
    "\n",
    "• Date_added : Date it was added on Netflix\n",
    "\n",
    "• Release_year : Actual Release year of the movie/Tv show\n",
    "\n",
    "• Rating : TV Rating of the movie/Tv show\n",
    "\n",
    "• Duration : Total Duration - in minutes or number of seasons\n",
    "\n",
    "• Listed_in : Genre\n",
    "\n",
    "• Description : The summary description"
   ]
  },
  {
   "cell_type": "markdown",
   "id": "ae463570",
   "metadata": {},
   "source": [
    "### Shape"
   ]
  },
  {
   "cell_type": "code",
   "execution_count": 257,
   "id": "42b60d2f",
   "metadata": {},
   "outputs": [
    {
     "data": {
      "text/plain": [
       "(8807, 12)"
      ]
     },
     "execution_count": 257,
     "metadata": {},
     "output_type": "execute_result"
    }
   ],
   "source": [
    "data.shape"
   ]
  },
  {
   "cell_type": "markdown",
   "id": "1cca45c4",
   "metadata": {},
   "source": [
    "**Shape of the Data :**  8807 rows and 12 Columns"
   ]
  },
  {
   "cell_type": "markdown",
   "id": "2c91f113",
   "metadata": {},
   "source": [
    "### Dimension"
   ]
  },
  {
   "cell_type": "code",
   "execution_count": 258,
   "id": "23aae7ba",
   "metadata": {},
   "outputs": [
    {
     "data": {
      "text/plain": [
       "2"
      ]
     },
     "execution_count": 258,
     "metadata": {},
     "output_type": "execute_result"
    }
   ],
   "source": [
    "data.ndim"
   ]
  },
  {
   "cell_type": "markdown",
   "id": "c8f35e30",
   "metadata": {},
   "source": [
    "**Dimension of the Data :**  2 Dimension"
   ]
  },
  {
   "cell_type": "markdown",
   "id": "979d311d",
   "metadata": {},
   "source": [
    "### Information about Data types"
   ]
  },
  {
   "cell_type": "code",
   "execution_count": 259,
   "id": "ecbf1a55",
   "metadata": {},
   "outputs": [
    {
     "name": "stdout",
     "output_type": "stream",
     "text": [
      "<class 'pandas.core.frame.DataFrame'>\n",
      "RangeIndex: 8807 entries, 0 to 8806\n",
      "Data columns (total 12 columns):\n",
      " #   Column        Non-Null Count  Dtype \n",
      "---  ------        --------------  ----- \n",
      " 0   show_id       8807 non-null   object\n",
      " 1   type          8807 non-null   object\n",
      " 2   title         8807 non-null   object\n",
      " 3   director      6173 non-null   object\n",
      " 4   cast          7982 non-null   object\n",
      " 5   country       7976 non-null   object\n",
      " 6   date_added    8797 non-null   object\n",
      " 7   release_year  8807 non-null   int64 \n",
      " 8   rating        8803 non-null   object\n",
      " 9   duration      8804 non-null   object\n",
      " 10  listed_in     8807 non-null   object\n",
      " 11  description   8807 non-null   object\n",
      "dtypes: int64(1), object(11)\n",
      "memory usage: 825.8+ KB\n"
     ]
    }
   ],
   "source": [
    "data.info()"
   ]
  },
  {
   "cell_type": "markdown",
   "id": "9eeedeaa",
   "metadata": {},
   "source": [
    "**Data Type :** Except release_year, all of them are ***objects*** (String). release_year is in ***int64*** (Integer) "
   ]
  },
  {
   "cell_type": "markdown",
   "id": "6c0045f2",
   "metadata": {},
   "source": [
    "### Information about the Null Values"
   ]
  },
  {
   "cell_type": "code",
   "execution_count": 260,
   "id": "faf2ee47",
   "metadata": {},
   "outputs": [
    {
     "data": {
      "text/plain": [
       "show_id            0\n",
       "type               0\n",
       "title              0\n",
       "director        2634\n",
       "cast             825\n",
       "country          831\n",
       "date_added        10\n",
       "release_year       0\n",
       "rating             4\n",
       "duration           3\n",
       "listed_in          0\n",
       "description        0\n",
       "dtype: int64"
      ]
     },
     "execution_count": 260,
     "metadata": {},
     "output_type": "execute_result"
    }
   ],
   "source": [
    "data.isnull().sum()"
   ]
  },
  {
   "cell_type": "markdown",
   "id": "b10feef4",
   "metadata": {},
   "source": [
    "**Null Values :** \n",
    "\n",
    "1.Director, Cast, Country has most number of null values.\n",
    "\n",
    "2.data_added, rating , duration has least number of null values."
   ]
  },
  {
   "cell_type": "markdown",
   "id": "1b54b244",
   "metadata": {},
   "source": [
    "### Summary of Descriptive Statistics"
   ]
  },
  {
   "cell_type": "markdown",
   "id": "14c19bd1",
   "metadata": {},
   "source": [
    "#### Numerical :-"
   ]
  },
  {
   "cell_type": "code",
   "execution_count": 261,
   "id": "466bf8e8",
   "metadata": {},
   "outputs": [
    {
     "data": {
      "text/html": [
       "<div>\n",
       "<style scoped>\n",
       "    .dataframe tbody tr th:only-of-type {\n",
       "        vertical-align: middle;\n",
       "    }\n",
       "\n",
       "    .dataframe tbody tr th {\n",
       "        vertical-align: top;\n",
       "    }\n",
       "\n",
       "    .dataframe thead th {\n",
       "        text-align: right;\n",
       "    }\n",
       "</style>\n",
       "<table border=\"1\" class=\"dataframe\">\n",
       "  <thead>\n",
       "    <tr style=\"text-align: right;\">\n",
       "      <th></th>\n",
       "      <th>release_year</th>\n",
       "    </tr>\n",
       "  </thead>\n",
       "  <tbody>\n",
       "    <tr>\n",
       "      <th>count</th>\n",
       "      <td>8807.000000</td>\n",
       "    </tr>\n",
       "    <tr>\n",
       "      <th>mean</th>\n",
       "      <td>2014.180198</td>\n",
       "    </tr>\n",
       "    <tr>\n",
       "      <th>std</th>\n",
       "      <td>8.819312</td>\n",
       "    </tr>\n",
       "    <tr>\n",
       "      <th>min</th>\n",
       "      <td>1925.000000</td>\n",
       "    </tr>\n",
       "    <tr>\n",
       "      <th>25%</th>\n",
       "      <td>2013.000000</td>\n",
       "    </tr>\n",
       "    <tr>\n",
       "      <th>50%</th>\n",
       "      <td>2017.000000</td>\n",
       "    </tr>\n",
       "    <tr>\n",
       "      <th>75%</th>\n",
       "      <td>2019.000000</td>\n",
       "    </tr>\n",
       "    <tr>\n",
       "      <th>max</th>\n",
       "      <td>2021.000000</td>\n",
       "    </tr>\n",
       "  </tbody>\n",
       "</table>\n",
       "</div>"
      ],
      "text/plain": [
       "       release_year\n",
       "count   8807.000000\n",
       "mean    2014.180198\n",
       "std        8.819312\n",
       "min     1925.000000\n",
       "25%     2013.000000\n",
       "50%     2017.000000\n",
       "75%     2019.000000\n",
       "max     2021.000000"
      ]
     },
     "execution_count": 261,
     "metadata": {},
     "output_type": "execute_result"
    }
   ],
   "source": [
    "data.describe()"
   ]
  },
  {
   "cell_type": "markdown",
   "id": "76e0bb10",
   "metadata": {},
   "source": [
    "**Insights :** \n",
    "\n",
    "1.The release of tv - shows and Movies are Minimum in the year 1925 to 2013. \n",
    "\n",
    "2.After 2013 there is a increasing trend in the release of tv-shows and Movies."
   ]
  },
  {
   "cell_type": "markdown",
   "id": "bb23287f",
   "metadata": {},
   "source": [
    "#### Categorical :-"
   ]
  },
  {
   "cell_type": "code",
   "execution_count": 262,
   "id": "50bc457c",
   "metadata": {},
   "outputs": [
    {
     "data": {
      "text/html": [
       "<div>\n",
       "<style scoped>\n",
       "    .dataframe tbody tr th:only-of-type {\n",
       "        vertical-align: middle;\n",
       "    }\n",
       "\n",
       "    .dataframe tbody tr th {\n",
       "        vertical-align: top;\n",
       "    }\n",
       "\n",
       "    .dataframe thead th {\n",
       "        text-align: right;\n",
       "    }\n",
       "</style>\n",
       "<table border=\"1\" class=\"dataframe\">\n",
       "  <thead>\n",
       "    <tr style=\"text-align: right;\">\n",
       "      <th></th>\n",
       "      <th>show_id</th>\n",
       "      <th>type</th>\n",
       "      <th>title</th>\n",
       "      <th>director</th>\n",
       "      <th>cast</th>\n",
       "      <th>country</th>\n",
       "      <th>date_added</th>\n",
       "      <th>rating</th>\n",
       "      <th>duration</th>\n",
       "      <th>listed_in</th>\n",
       "      <th>description</th>\n",
       "    </tr>\n",
       "  </thead>\n",
       "  <tbody>\n",
       "    <tr>\n",
       "      <th>count</th>\n",
       "      <td>8807</td>\n",
       "      <td>8807</td>\n",
       "      <td>8807</td>\n",
       "      <td>6173</td>\n",
       "      <td>7982</td>\n",
       "      <td>7976</td>\n",
       "      <td>8797</td>\n",
       "      <td>8803</td>\n",
       "      <td>8804</td>\n",
       "      <td>8807</td>\n",
       "      <td>8807</td>\n",
       "    </tr>\n",
       "    <tr>\n",
       "      <th>unique</th>\n",
       "      <td>8807</td>\n",
       "      <td>2</td>\n",
       "      <td>8807</td>\n",
       "      <td>4528</td>\n",
       "      <td>7692</td>\n",
       "      <td>748</td>\n",
       "      <td>1767</td>\n",
       "      <td>17</td>\n",
       "      <td>220</td>\n",
       "      <td>514</td>\n",
       "      <td>8775</td>\n",
       "    </tr>\n",
       "    <tr>\n",
       "      <th>top</th>\n",
       "      <td>s1</td>\n",
       "      <td>Movie</td>\n",
       "      <td>Dick Johnson Is Dead</td>\n",
       "      <td>Rajiv Chilaka</td>\n",
       "      <td>David Attenborough</td>\n",
       "      <td>United States</td>\n",
       "      <td>January 1, 2020</td>\n",
       "      <td>TV-MA</td>\n",
       "      <td>1 Season</td>\n",
       "      <td>Dramas, International Movies</td>\n",
       "      <td>Paranormal activity at a lush, abandoned prope...</td>\n",
       "    </tr>\n",
       "    <tr>\n",
       "      <th>freq</th>\n",
       "      <td>1</td>\n",
       "      <td>6131</td>\n",
       "      <td>1</td>\n",
       "      <td>19</td>\n",
       "      <td>19</td>\n",
       "      <td>2818</td>\n",
       "      <td>109</td>\n",
       "      <td>3207</td>\n",
       "      <td>1793</td>\n",
       "      <td>362</td>\n",
       "      <td>4</td>\n",
       "    </tr>\n",
       "  </tbody>\n",
       "</table>\n",
       "</div>"
      ],
      "text/plain": [
       "       show_id   type                 title       director  \\\n",
       "count     8807   8807                  8807           6173   \n",
       "unique    8807      2                  8807           4528   \n",
       "top         s1  Movie  Dick Johnson Is Dead  Rajiv Chilaka   \n",
       "freq         1   6131                     1             19   \n",
       "\n",
       "                      cast        country       date_added rating  duration  \\\n",
       "count                 7982           7976             8797   8803      8804   \n",
       "unique                7692            748             1767     17       220   \n",
       "top     David Attenborough  United States  January 1, 2020  TV-MA  1 Season   \n",
       "freq                    19           2818              109   3207      1793   \n",
       "\n",
       "                           listed_in  \\\n",
       "count                           8807   \n",
       "unique                           514   \n",
       "top     Dramas, International Movies   \n",
       "freq                             362   \n",
       "\n",
       "                                              description  \n",
       "count                                                8807  \n",
       "unique                                               8775  \n",
       "top     Paranormal activity at a lush, abandoned prope...  \n",
       "freq                                                    4  "
      ]
     },
     "execution_count": 262,
     "metadata": {},
     "output_type": "execute_result"
    }
   ],
   "source": [
    "data.describe(include = \"object\")"
   ]
  },
  {
   "cell_type": "markdown",
   "id": "0c614ede",
   "metadata": {},
   "source": [
    "**Insights :**\n",
    "\n",
    "1.There are only two unique vales in the type columns **Movie and Tv-show**.\n",
    "\n",
    "2.Movies are Dominating the release count compared to Tv-shows.\n",
    "\n",
    "3.**United states** has the record of most releases (**Count** : 2818)."
   ]
  },
  {
   "cell_type": "markdown",
   "id": "fd356403",
   "metadata": {},
   "source": [
    "### Information About the Duplicate Values"
   ]
  },
  {
   "cell_type": "code",
   "execution_count": 263,
   "id": "4f60d4b2",
   "metadata": {},
   "outputs": [
    {
     "data": {
      "text/plain": [
       "False"
      ]
     },
     "execution_count": 263,
     "metadata": {},
     "output_type": "execute_result"
    }
   ],
   "source": [
    "data.duplicated().any()"
   ]
  },
  {
   "cell_type": "markdown",
   "id": "2b071281",
   "metadata": {},
   "source": [
    "**Duplicates :** There is no Duplicate Values in the Dataset."
   ]
  },
  {
   "cell_type": "markdown",
   "id": "93eced75",
   "metadata": {},
   "source": [
    "**---------------------------------------------------------------------------------------------------------------------------------------------------------------------------------------------------**"
   ]
  },
  {
   "cell_type": "markdown",
   "id": "36d5fcef",
   "metadata": {},
   "source": [
    "## Data Cleaning Process"
   ]
  },
  {
   "cell_type": "markdown",
   "id": "a06fb266",
   "metadata": {},
   "source": [
    "### Handling Missing Values\n",
    "\n",
    "We have to treat the categorical missing values with the mode function to fill."
   ]
  },
  {
   "cell_type": "code",
   "execution_count": 264,
   "id": "9ed42840",
   "metadata": {},
   "outputs": [],
   "source": [
    "data[\"director\"].fillna(data[\"director\"].mode()[0],inplace = True )"
   ]
  },
  {
   "cell_type": "code",
   "execution_count": 265,
   "id": "ac589333",
   "metadata": {},
   "outputs": [],
   "source": [
    "data[\"cast\"].fillna(data[\"cast\"].mode()[0],inplace = True )"
   ]
  },
  {
   "cell_type": "code",
   "execution_count": 266,
   "id": "6a5dd47a",
   "metadata": {},
   "outputs": [],
   "source": [
    "data[\"country\"].fillna(data[\"country\"].mode()[0],inplace = True )"
   ]
  },
  {
   "cell_type": "code",
   "execution_count": 267,
   "id": "0fd61f70",
   "metadata": {},
   "outputs": [],
   "source": [
    "data[\"date_added\"].fillna(data[\"date_added\"].mode()[0],inplace = True )"
   ]
  },
  {
   "cell_type": "code",
   "execution_count": 268,
   "id": "7e712d3e",
   "metadata": {},
   "outputs": [],
   "source": [
    "data[\"rating\"].fillna(data[\"rating\"].mode()[0],inplace = True )"
   ]
  },
  {
   "cell_type": "code",
   "execution_count": 269,
   "id": "38884a20",
   "metadata": {},
   "outputs": [],
   "source": [
    "data[\"duration\"].fillna(data[\"duration\"].mode()[0],inplace = True )"
   ]
  },
  {
   "cell_type": "markdown",
   "id": "dafc79a9",
   "metadata": {},
   "source": [
    "### After handling missing values "
   ]
  },
  {
   "cell_type": "code",
   "execution_count": 270,
   "id": "18c9756b",
   "metadata": {},
   "outputs": [
    {
     "data": {
      "text/html": [
       "<div>\n",
       "<style scoped>\n",
       "    .dataframe tbody tr th:only-of-type {\n",
       "        vertical-align: middle;\n",
       "    }\n",
       "\n",
       "    .dataframe tbody tr th {\n",
       "        vertical-align: top;\n",
       "    }\n",
       "\n",
       "    .dataframe thead th {\n",
       "        text-align: right;\n",
       "    }\n",
       "</style>\n",
       "<table border=\"1\" class=\"dataframe\">\n",
       "  <thead>\n",
       "    <tr style=\"text-align: right;\">\n",
       "      <th></th>\n",
       "      <th>show_id</th>\n",
       "      <th>type</th>\n",
       "      <th>title</th>\n",
       "      <th>director</th>\n",
       "      <th>cast</th>\n",
       "      <th>country</th>\n",
       "      <th>date_added</th>\n",
       "      <th>release_year</th>\n",
       "      <th>rating</th>\n",
       "      <th>duration</th>\n",
       "      <th>listed_in</th>\n",
       "      <th>description</th>\n",
       "    </tr>\n",
       "  </thead>\n",
       "  <tbody>\n",
       "    <tr>\n",
       "      <th>0</th>\n",
       "      <td>s1</td>\n",
       "      <td>Movie</td>\n",
       "      <td>Dick Johnson Is Dead</td>\n",
       "      <td>Kirsten Johnson</td>\n",
       "      <td>David Attenborough</td>\n",
       "      <td>United States</td>\n",
       "      <td>September 25, 2021</td>\n",
       "      <td>2020</td>\n",
       "      <td>PG-13</td>\n",
       "      <td>90 min</td>\n",
       "      <td>Documentaries</td>\n",
       "      <td>As her father nears the end of his life, filmm...</td>\n",
       "    </tr>\n",
       "    <tr>\n",
       "      <th>1</th>\n",
       "      <td>s2</td>\n",
       "      <td>TV Show</td>\n",
       "      <td>Blood &amp; Water</td>\n",
       "      <td>Rajiv Chilaka</td>\n",
       "      <td>Ama Qamata, Khosi Ngema, Gail Mabalane, Thaban...</td>\n",
       "      <td>South Africa</td>\n",
       "      <td>September 24, 2021</td>\n",
       "      <td>2021</td>\n",
       "      <td>TV-MA</td>\n",
       "      <td>2 Seasons</td>\n",
       "      <td>International TV Shows, TV Dramas, TV Mysteries</td>\n",
       "      <td>After crossing paths at a party, a Cape Town t...</td>\n",
       "    </tr>\n",
       "    <tr>\n",
       "      <th>2</th>\n",
       "      <td>s3</td>\n",
       "      <td>TV Show</td>\n",
       "      <td>Ganglands</td>\n",
       "      <td>Julien Leclercq</td>\n",
       "      <td>Sami Bouajila, Tracy Gotoas, Samuel Jouy, Nabi...</td>\n",
       "      <td>United States</td>\n",
       "      <td>September 24, 2021</td>\n",
       "      <td>2021</td>\n",
       "      <td>TV-MA</td>\n",
       "      <td>1 Season</td>\n",
       "      <td>Crime TV Shows, International TV Shows, TV Act...</td>\n",
       "      <td>To protect his family from a powerful drug lor...</td>\n",
       "    </tr>\n",
       "    <tr>\n",
       "      <th>3</th>\n",
       "      <td>s4</td>\n",
       "      <td>TV Show</td>\n",
       "      <td>Jailbirds New Orleans</td>\n",
       "      <td>Rajiv Chilaka</td>\n",
       "      <td>David Attenborough</td>\n",
       "      <td>United States</td>\n",
       "      <td>September 24, 2021</td>\n",
       "      <td>2021</td>\n",
       "      <td>TV-MA</td>\n",
       "      <td>1 Season</td>\n",
       "      <td>Docuseries, Reality TV</td>\n",
       "      <td>Feuds, flirtations and toilet talk go down amo...</td>\n",
       "    </tr>\n",
       "    <tr>\n",
       "      <th>4</th>\n",
       "      <td>s5</td>\n",
       "      <td>TV Show</td>\n",
       "      <td>Kota Factory</td>\n",
       "      <td>Rajiv Chilaka</td>\n",
       "      <td>Mayur More, Jitendra Kumar, Ranjan Raj, Alam K...</td>\n",
       "      <td>India</td>\n",
       "      <td>September 24, 2021</td>\n",
       "      <td>2021</td>\n",
       "      <td>TV-MA</td>\n",
       "      <td>2 Seasons</td>\n",
       "      <td>International TV Shows, Romantic TV Shows, TV ...</td>\n",
       "      <td>In a city of coaching centers known to train I...</td>\n",
       "    </tr>\n",
       "  </tbody>\n",
       "</table>\n",
       "</div>"
      ],
      "text/plain": [
       "  show_id     type                  title         director  \\\n",
       "0      s1    Movie   Dick Johnson Is Dead  Kirsten Johnson   \n",
       "1      s2  TV Show          Blood & Water    Rajiv Chilaka   \n",
       "2      s3  TV Show              Ganglands  Julien Leclercq   \n",
       "3      s4  TV Show  Jailbirds New Orleans    Rajiv Chilaka   \n",
       "4      s5  TV Show           Kota Factory    Rajiv Chilaka   \n",
       "\n",
       "                                                cast        country  \\\n",
       "0                                 David Attenborough  United States   \n",
       "1  Ama Qamata, Khosi Ngema, Gail Mabalane, Thaban...   South Africa   \n",
       "2  Sami Bouajila, Tracy Gotoas, Samuel Jouy, Nabi...  United States   \n",
       "3                                 David Attenborough  United States   \n",
       "4  Mayur More, Jitendra Kumar, Ranjan Raj, Alam K...          India   \n",
       "\n",
       "           date_added  release_year rating   duration  \\\n",
       "0  September 25, 2021          2020  PG-13     90 min   \n",
       "1  September 24, 2021          2021  TV-MA  2 Seasons   \n",
       "2  September 24, 2021          2021  TV-MA   1 Season   \n",
       "3  September 24, 2021          2021  TV-MA   1 Season   \n",
       "4  September 24, 2021          2021  TV-MA  2 Seasons   \n",
       "\n",
       "                                           listed_in  \\\n",
       "0                                      Documentaries   \n",
       "1    International TV Shows, TV Dramas, TV Mysteries   \n",
       "2  Crime TV Shows, International TV Shows, TV Act...   \n",
       "3                             Docuseries, Reality TV   \n",
       "4  International TV Shows, Romantic TV Shows, TV ...   \n",
       "\n",
       "                                         description  \n",
       "0  As her father nears the end of his life, filmm...  \n",
       "1  After crossing paths at a party, a Cape Town t...  \n",
       "2  To protect his family from a powerful drug lor...  \n",
       "3  Feuds, flirtations and toilet talk go down amo...  \n",
       "4  In a city of coaching centers known to train I...  "
      ]
     },
     "execution_count": 270,
     "metadata": {},
     "output_type": "execute_result"
    }
   ],
   "source": [
    "data.head()"
   ]
  },
  {
   "cell_type": "code",
   "execution_count": 271,
   "id": "054d65b2",
   "metadata": {},
   "outputs": [
    {
     "data": {
      "text/plain": [
       "show_id         0\n",
       "type            0\n",
       "title           0\n",
       "director        0\n",
       "cast            0\n",
       "country         0\n",
       "date_added      0\n",
       "release_year    0\n",
       "rating          0\n",
       "duration        0\n",
       "listed_in       0\n",
       "description     0\n",
       "dtype: int64"
      ]
     },
     "execution_count": 271,
     "metadata": {},
     "output_type": "execute_result"
    }
   ],
   "source": [
    "data.isnull().sum()"
   ]
  },
  {
   "cell_type": "markdown",
   "id": "69a54e22",
   "metadata": {},
   "source": [
    "After handling the missing values, there is no null values shown"
   ]
  },
  {
   "cell_type": "markdown",
   "id": "4f6e31c7",
   "metadata": {},
   "source": [
    "### Performing Type conversion\n",
    "\n",
    "Ensuring the data types are appropriately adjusted facilitates smoother data analysis.\n",
    "\n",
    "1.Type - Covert this to **category**.\n",
    "\n",
    "2.date_added - Convert this to **datetime64**."
   ]
  },
  {
   "cell_type": "code",
   "execution_count": 272,
   "id": "9a4158a7",
   "metadata": {},
   "outputs": [],
   "source": [
    "data[\"type\"] = data[\"type\"].astype(\"category\")"
   ]
  },
  {
   "cell_type": "code",
   "execution_count": 273,
   "id": "ee3c4a40",
   "metadata": {},
   "outputs": [],
   "source": [
    "data[\"date_added\"] = pd.to_datetime(data[\"date_added\"])"
   ]
  },
  {
   "cell_type": "code",
   "execution_count": 274,
   "id": "ff956e83",
   "metadata": {},
   "outputs": [
    {
     "name": "stdout",
     "output_type": "stream",
     "text": [
      "<class 'pandas.core.frame.DataFrame'>\n",
      "RangeIndex: 8807 entries, 0 to 8806\n",
      "Data columns (total 12 columns):\n",
      " #   Column        Non-Null Count  Dtype         \n",
      "---  ------        --------------  -----         \n",
      " 0   show_id       8807 non-null   object        \n",
      " 1   type          8807 non-null   category      \n",
      " 2   title         8807 non-null   object        \n",
      " 3   director      8807 non-null   object        \n",
      " 4   cast          8807 non-null   object        \n",
      " 5   country       8807 non-null   object        \n",
      " 6   date_added    8807 non-null   datetime64[ns]\n",
      " 7   release_year  8807 non-null   int64         \n",
      " 8   rating        8807 non-null   object        \n",
      " 9   duration      8807 non-null   object        \n",
      " 10  listed_in     8807 non-null   object        \n",
      " 11  description   8807 non-null   object        \n",
      "dtypes: category(1), datetime64[ns](1), int64(1), object(9)\n",
      "memory usage: 765.7+ KB\n"
     ]
    }
   ],
   "source": [
    "data.info()"
   ]
  },
  {
   "cell_type": "markdown",
   "id": "0e44cd6a",
   "metadata": {},
   "source": [
    "### Performing Datetime Decomposition\n",
    "\n",
    "We have to separate the  **date_added**  column into Date, Month, Year, and Days for better analysis."
   ]
  },
  {
   "cell_type": "code",
   "execution_count": 275,
   "id": "838ab0ff",
   "metadata": {},
   "outputs": [
    {
     "data": {
      "text/html": [
       "<div>\n",
       "<style scoped>\n",
       "    .dataframe tbody tr th:only-of-type {\n",
       "        vertical-align: middle;\n",
       "    }\n",
       "\n",
       "    .dataframe tbody tr th {\n",
       "        vertical-align: top;\n",
       "    }\n",
       "\n",
       "    .dataframe thead th {\n",
       "        text-align: right;\n",
       "    }\n",
       "</style>\n",
       "<table border=\"1\" class=\"dataframe\">\n",
       "  <thead>\n",
       "    <tr style=\"text-align: right;\">\n",
       "      <th></th>\n",
       "      <th>show_id</th>\n",
       "      <th>type</th>\n",
       "      <th>title</th>\n",
       "      <th>director</th>\n",
       "      <th>cast</th>\n",
       "      <th>country</th>\n",
       "      <th>release_year</th>\n",
       "      <th>rating</th>\n",
       "      <th>duration</th>\n",
       "      <th>listed_in</th>\n",
       "      <th>description</th>\n",
       "      <th>Date</th>\n",
       "      <th>Month</th>\n",
       "      <th>Year</th>\n",
       "      <th>Days</th>\n",
       "    </tr>\n",
       "  </thead>\n",
       "  <tbody>\n",
       "    <tr>\n",
       "      <th>0</th>\n",
       "      <td>s1</td>\n",
       "      <td>Movie</td>\n",
       "      <td>Dick Johnson Is Dead</td>\n",
       "      <td>Kirsten Johnson</td>\n",
       "      <td>David Attenborough</td>\n",
       "      <td>United States</td>\n",
       "      <td>2020</td>\n",
       "      <td>PG-13</td>\n",
       "      <td>90 min</td>\n",
       "      <td>Documentaries</td>\n",
       "      <td>As her father nears the end of his life, filmm...</td>\n",
       "      <td>25</td>\n",
       "      <td>September</td>\n",
       "      <td>2021</td>\n",
       "      <td>Saturday</td>\n",
       "    </tr>\n",
       "    <tr>\n",
       "      <th>1</th>\n",
       "      <td>s2</td>\n",
       "      <td>TV Show</td>\n",
       "      <td>Blood &amp; Water</td>\n",
       "      <td>Rajiv Chilaka</td>\n",
       "      <td>Ama Qamata, Khosi Ngema, Gail Mabalane, Thaban...</td>\n",
       "      <td>South Africa</td>\n",
       "      <td>2021</td>\n",
       "      <td>TV-MA</td>\n",
       "      <td>2 Seasons</td>\n",
       "      <td>International TV Shows, TV Dramas, TV Mysteries</td>\n",
       "      <td>After crossing paths at a party, a Cape Town t...</td>\n",
       "      <td>24</td>\n",
       "      <td>September</td>\n",
       "      <td>2021</td>\n",
       "      <td>Friday</td>\n",
       "    </tr>\n",
       "    <tr>\n",
       "      <th>2</th>\n",
       "      <td>s3</td>\n",
       "      <td>TV Show</td>\n",
       "      <td>Ganglands</td>\n",
       "      <td>Julien Leclercq</td>\n",
       "      <td>Sami Bouajila, Tracy Gotoas, Samuel Jouy, Nabi...</td>\n",
       "      <td>United States</td>\n",
       "      <td>2021</td>\n",
       "      <td>TV-MA</td>\n",
       "      <td>1 Season</td>\n",
       "      <td>Crime TV Shows, International TV Shows, TV Act...</td>\n",
       "      <td>To protect his family from a powerful drug lor...</td>\n",
       "      <td>24</td>\n",
       "      <td>September</td>\n",
       "      <td>2021</td>\n",
       "      <td>Friday</td>\n",
       "    </tr>\n",
       "    <tr>\n",
       "      <th>3</th>\n",
       "      <td>s4</td>\n",
       "      <td>TV Show</td>\n",
       "      <td>Jailbirds New Orleans</td>\n",
       "      <td>Rajiv Chilaka</td>\n",
       "      <td>David Attenborough</td>\n",
       "      <td>United States</td>\n",
       "      <td>2021</td>\n",
       "      <td>TV-MA</td>\n",
       "      <td>1 Season</td>\n",
       "      <td>Docuseries, Reality TV</td>\n",
       "      <td>Feuds, flirtations and toilet talk go down amo...</td>\n",
       "      <td>24</td>\n",
       "      <td>September</td>\n",
       "      <td>2021</td>\n",
       "      <td>Friday</td>\n",
       "    </tr>\n",
       "    <tr>\n",
       "      <th>4</th>\n",
       "      <td>s5</td>\n",
       "      <td>TV Show</td>\n",
       "      <td>Kota Factory</td>\n",
       "      <td>Rajiv Chilaka</td>\n",
       "      <td>Mayur More, Jitendra Kumar, Ranjan Raj, Alam K...</td>\n",
       "      <td>India</td>\n",
       "      <td>2021</td>\n",
       "      <td>TV-MA</td>\n",
       "      <td>2 Seasons</td>\n",
       "      <td>International TV Shows, Romantic TV Shows, TV ...</td>\n",
       "      <td>In a city of coaching centers known to train I...</td>\n",
       "      <td>24</td>\n",
       "      <td>September</td>\n",
       "      <td>2021</td>\n",
       "      <td>Friday</td>\n",
       "    </tr>\n",
       "  </tbody>\n",
       "</table>\n",
       "</div>"
      ],
      "text/plain": [
       "  show_id     type                  title         director  \\\n",
       "0      s1    Movie   Dick Johnson Is Dead  Kirsten Johnson   \n",
       "1      s2  TV Show          Blood & Water    Rajiv Chilaka   \n",
       "2      s3  TV Show              Ganglands  Julien Leclercq   \n",
       "3      s4  TV Show  Jailbirds New Orleans    Rajiv Chilaka   \n",
       "4      s5  TV Show           Kota Factory    Rajiv Chilaka   \n",
       "\n",
       "                                                cast        country  \\\n",
       "0                                 David Attenborough  United States   \n",
       "1  Ama Qamata, Khosi Ngema, Gail Mabalane, Thaban...   South Africa   \n",
       "2  Sami Bouajila, Tracy Gotoas, Samuel Jouy, Nabi...  United States   \n",
       "3                                 David Attenborough  United States   \n",
       "4  Mayur More, Jitendra Kumar, Ranjan Raj, Alam K...          India   \n",
       "\n",
       "   release_year rating   duration  \\\n",
       "0          2020  PG-13     90 min   \n",
       "1          2021  TV-MA  2 Seasons   \n",
       "2          2021  TV-MA   1 Season   \n",
       "3          2021  TV-MA   1 Season   \n",
       "4          2021  TV-MA  2 Seasons   \n",
       "\n",
       "                                           listed_in  \\\n",
       "0                                      Documentaries   \n",
       "1    International TV Shows, TV Dramas, TV Mysteries   \n",
       "2  Crime TV Shows, International TV Shows, TV Act...   \n",
       "3                             Docuseries, Reality TV   \n",
       "4  International TV Shows, Romantic TV Shows, TV ...   \n",
       "\n",
       "                                         description  Date      Month  Year  \\\n",
       "0  As her father nears the end of his life, filmm...    25  September  2021   \n",
       "1  After crossing paths at a party, a Cape Town t...    24  September  2021   \n",
       "2  To protect his family from a powerful drug lor...    24  September  2021   \n",
       "3  Feuds, flirtations and toilet talk go down amo...    24  September  2021   \n",
       "4  In a city of coaching centers known to train I...    24  September  2021   \n",
       "\n",
       "       Days  \n",
       "0  Saturday  \n",
       "1    Friday  \n",
       "2    Friday  \n",
       "3    Friday  \n",
       "4    Friday  "
      ]
     },
     "execution_count": 275,
     "metadata": {},
     "output_type": "execute_result"
    }
   ],
   "source": [
    "data[\"Date\"] = data[\"date_added\"].dt.day\n",
    "data[\"Month\"] = data[\"date_added\"].dt.month_name()\n",
    "data[\"Year\"] = data[\"date_added\"].dt.year\n",
    "data[\"Days\"] = data[\"date_added\"].dt.day_name()\n",
    "data.drop(columns = \"date_added\",inplace = True)\n",
    "\n",
    "data.head()"
   ]
  },
  {
   "cell_type": "markdown",
   "id": "70a98fe5",
   "metadata": {},
   "source": [
    "### Unwrap the records in Director, Cast, Country, Listed_in  columns\n",
    "\n",
    "In some specific columns, there are some records grouped within a single cell. Aim to unwrap these records to facilitate more effective analysis."
   ]
  },
  {
   "cell_type": "markdown",
   "id": "c85104f0",
   "metadata": {},
   "source": [
    "### Director"
   ]
  },
  {
   "cell_type": "code",
   "execution_count": 276,
   "id": "29ad490d",
   "metadata": {},
   "outputs": [
    {
     "data": {
      "text/html": [
       "<div>\n",
       "<style scoped>\n",
       "    .dataframe tbody tr th:only-of-type {\n",
       "        vertical-align: middle;\n",
       "    }\n",
       "\n",
       "    .dataframe tbody tr th {\n",
       "        vertical-align: top;\n",
       "    }\n",
       "\n",
       "    .dataframe thead th {\n",
       "        text-align: right;\n",
       "    }\n",
       "</style>\n",
       "<table border=\"1\" class=\"dataframe\">\n",
       "  <thead>\n",
       "    <tr style=\"text-align: right;\">\n",
       "      <th></th>\n",
       "      <th>show_id</th>\n",
       "      <th>Director</th>\n",
       "    </tr>\n",
       "  </thead>\n",
       "  <tbody>\n",
       "    <tr>\n",
       "      <th>0</th>\n",
       "      <td>s1</td>\n",
       "      <td>Kirsten Johnson</td>\n",
       "    </tr>\n",
       "    <tr>\n",
       "      <th>1</th>\n",
       "      <td>s2</td>\n",
       "      <td>Rajiv Chilaka</td>\n",
       "    </tr>\n",
       "    <tr>\n",
       "      <th>2</th>\n",
       "      <td>s3</td>\n",
       "      <td>Julien Leclercq</td>\n",
       "    </tr>\n",
       "    <tr>\n",
       "      <th>3</th>\n",
       "      <td>s4</td>\n",
       "      <td>Rajiv Chilaka</td>\n",
       "    </tr>\n",
       "    <tr>\n",
       "      <th>4</th>\n",
       "      <td>s5</td>\n",
       "      <td>Rajiv Chilaka</td>\n",
       "    </tr>\n",
       "  </tbody>\n",
       "</table>\n",
       "</div>"
      ],
      "text/plain": [
       "  show_id         Director\n",
       "0      s1  Kirsten Johnson\n",
       "1      s2    Rajiv Chilaka\n",
       "2      s3  Julien Leclercq\n",
       "3      s4    Rajiv Chilaka\n",
       "4      s5    Rajiv Chilaka"
      ]
     },
     "execution_count": 276,
     "metadata": {},
     "output_type": "execute_result"
    }
   ],
   "source": [
    "unwrap_dir = data[\"director\"].str.split(\", \",expand = True).set_index(data[\"show_id\"])\n",
    "unwrap_dir = pd.DataFrame(unwrap_dir.stack())\n",
    "unwrap_dir.reset_index(inplace = True)\n",
    "unwrap_dir = unwrap_dir[[\"show_id\",0]]\n",
    "unwrap_dir.columns = [\"show_id\",\"Director\"]\n",
    "unwrap_dir.head()"
   ]
  },
  {
   "cell_type": "markdown",
   "id": "852cd889",
   "metadata": {},
   "source": [
    "### Cast"
   ]
  },
  {
   "cell_type": "code",
   "execution_count": 277,
   "id": "74914eb4",
   "metadata": {},
   "outputs": [
    {
     "data": {
      "text/html": [
       "<div>\n",
       "<style scoped>\n",
       "    .dataframe tbody tr th:only-of-type {\n",
       "        vertical-align: middle;\n",
       "    }\n",
       "\n",
       "    .dataframe tbody tr th {\n",
       "        vertical-align: top;\n",
       "    }\n",
       "\n",
       "    .dataframe thead th {\n",
       "        text-align: right;\n",
       "    }\n",
       "</style>\n",
       "<table border=\"1\" class=\"dataframe\">\n",
       "  <thead>\n",
       "    <tr style=\"text-align: right;\">\n",
       "      <th></th>\n",
       "      <th>show_id</th>\n",
       "      <th>Cast</th>\n",
       "    </tr>\n",
       "  </thead>\n",
       "  <tbody>\n",
       "    <tr>\n",
       "      <th>0</th>\n",
       "      <td>s1</td>\n",
       "      <td>David Attenborough</td>\n",
       "    </tr>\n",
       "    <tr>\n",
       "      <th>1</th>\n",
       "      <td>s2</td>\n",
       "      <td>Ama Qamata</td>\n",
       "    </tr>\n",
       "    <tr>\n",
       "      <th>2</th>\n",
       "      <td>s2</td>\n",
       "      <td>Khosi Ngema</td>\n",
       "    </tr>\n",
       "    <tr>\n",
       "      <th>3</th>\n",
       "      <td>s2</td>\n",
       "      <td>Gail Mabalane</td>\n",
       "    </tr>\n",
       "    <tr>\n",
       "      <th>4</th>\n",
       "      <td>s2</td>\n",
       "      <td>Thabang Molaba</td>\n",
       "    </tr>\n",
       "  </tbody>\n",
       "</table>\n",
       "</div>"
      ],
      "text/plain": [
       "  show_id                Cast\n",
       "0      s1  David Attenborough\n",
       "1      s2          Ama Qamata\n",
       "2      s2         Khosi Ngema\n",
       "3      s2       Gail Mabalane\n",
       "4      s2      Thabang Molaba"
      ]
     },
     "execution_count": 277,
     "metadata": {},
     "output_type": "execute_result"
    }
   ],
   "source": [
    "unwrap_cast = data[\"cast\"].str.split(\", \",expand = True).set_index(data[\"show_id\"])\n",
    "unwrap_cast = pd.DataFrame(unwrap_cast.stack())\n",
    "unwrap_cast.reset_index(inplace = True)\n",
    "unwrap_cast = unwrap_cast[[\"show_id\",0]]\n",
    "unwrap_cast.columns = [\"show_id\",\"Cast\"]\n",
    "unwrap_cast.head()"
   ]
  },
  {
   "cell_type": "markdown",
   "id": "06e976a7",
   "metadata": {},
   "source": [
    "### Country"
   ]
  },
  {
   "cell_type": "code",
   "execution_count": 278,
   "id": "9ad6e1d8",
   "metadata": {},
   "outputs": [
    {
     "data": {
      "text/html": [
       "<div>\n",
       "<style scoped>\n",
       "    .dataframe tbody tr th:only-of-type {\n",
       "        vertical-align: middle;\n",
       "    }\n",
       "\n",
       "    .dataframe tbody tr th {\n",
       "        vertical-align: top;\n",
       "    }\n",
       "\n",
       "    .dataframe thead th {\n",
       "        text-align: right;\n",
       "    }\n",
       "</style>\n",
       "<table border=\"1\" class=\"dataframe\">\n",
       "  <thead>\n",
       "    <tr style=\"text-align: right;\">\n",
       "      <th></th>\n",
       "      <th>show_id</th>\n",
       "      <th>Country</th>\n",
       "    </tr>\n",
       "  </thead>\n",
       "  <tbody>\n",
       "    <tr>\n",
       "      <th>0</th>\n",
       "      <td>s1</td>\n",
       "      <td>United States</td>\n",
       "    </tr>\n",
       "    <tr>\n",
       "      <th>1</th>\n",
       "      <td>s2</td>\n",
       "      <td>South Africa</td>\n",
       "    </tr>\n",
       "    <tr>\n",
       "      <th>2</th>\n",
       "      <td>s3</td>\n",
       "      <td>United States</td>\n",
       "    </tr>\n",
       "    <tr>\n",
       "      <th>3</th>\n",
       "      <td>s4</td>\n",
       "      <td>United States</td>\n",
       "    </tr>\n",
       "    <tr>\n",
       "      <th>4</th>\n",
       "      <td>s5</td>\n",
       "      <td>India</td>\n",
       "    </tr>\n",
       "  </tbody>\n",
       "</table>\n",
       "</div>"
      ],
      "text/plain": [
       "  show_id        Country\n",
       "0      s1  United States\n",
       "1      s2   South Africa\n",
       "2      s3  United States\n",
       "3      s4  United States\n",
       "4      s5          India"
      ]
     },
     "execution_count": 278,
     "metadata": {},
     "output_type": "execute_result"
    }
   ],
   "source": [
    "unwrap_country = data[\"country\"].str.split(\", \",expand = True).set_index(data[\"show_id\"])\n",
    "unwrap_country = pd.DataFrame(unwrap_country.stack())\n",
    "unwrap_country.reset_index(inplace = True)\n",
    "unwrap_country = unwrap_country[[\"show_id\",0]]\n",
    "unwrap_country.columns = [\"show_id\",\"Country\"]\n",
    "unwrap_country.head()"
   ]
  },
  {
   "cell_type": "markdown",
   "id": "a26ee53a",
   "metadata": {},
   "source": [
    "### Genre (Listed_in)"
   ]
  },
  {
   "cell_type": "code",
   "execution_count": 279,
   "id": "8c8e0e09",
   "metadata": {},
   "outputs": [
    {
     "data": {
      "text/html": [
       "<div>\n",
       "<style scoped>\n",
       "    .dataframe tbody tr th:only-of-type {\n",
       "        vertical-align: middle;\n",
       "    }\n",
       "\n",
       "    .dataframe tbody tr th {\n",
       "        vertical-align: top;\n",
       "    }\n",
       "\n",
       "    .dataframe thead th {\n",
       "        text-align: right;\n",
       "    }\n",
       "</style>\n",
       "<table border=\"1\" class=\"dataframe\">\n",
       "  <thead>\n",
       "    <tr style=\"text-align: right;\">\n",
       "      <th></th>\n",
       "      <th>show_id</th>\n",
       "      <th>Genre</th>\n",
       "    </tr>\n",
       "  </thead>\n",
       "  <tbody>\n",
       "    <tr>\n",
       "      <th>0</th>\n",
       "      <td>s1</td>\n",
       "      <td>Documentaries</td>\n",
       "    </tr>\n",
       "    <tr>\n",
       "      <th>1</th>\n",
       "      <td>s2</td>\n",
       "      <td>International TV Shows</td>\n",
       "    </tr>\n",
       "    <tr>\n",
       "      <th>2</th>\n",
       "      <td>s2</td>\n",
       "      <td>TV Dramas</td>\n",
       "    </tr>\n",
       "    <tr>\n",
       "      <th>3</th>\n",
       "      <td>s2</td>\n",
       "      <td>TV Mysteries</td>\n",
       "    </tr>\n",
       "    <tr>\n",
       "      <th>4</th>\n",
       "      <td>s3</td>\n",
       "      <td>Crime TV Shows</td>\n",
       "    </tr>\n",
       "  </tbody>\n",
       "</table>\n",
       "</div>"
      ],
      "text/plain": [
       "  show_id                   Genre\n",
       "0      s1           Documentaries\n",
       "1      s2  International TV Shows\n",
       "2      s2               TV Dramas\n",
       "3      s2            TV Mysteries\n",
       "4      s3          Crime TV Shows"
      ]
     },
     "execution_count": 279,
     "metadata": {},
     "output_type": "execute_result"
    }
   ],
   "source": [
    "unwrap_genre = data[\"listed_in\"].str.split(\", \",expand = True).set_index(data[\"show_id\"])\n",
    "unwrap_genre = pd.DataFrame(unwrap_genre.stack())\n",
    "unwrap_genre.reset_index(inplace = True)\n",
    "unwrap_genre = unwrap_genre[[\"show_id\",0]]\n",
    "unwrap_genre.columns = [\"show_id\",\"Genre\"]\n",
    "unwrap_genre.head()"
   ]
  },
  {
   "cell_type": "markdown",
   "id": "c7e2d7f2",
   "metadata": {},
   "source": [
    "### Merge Unwrapped List Data\n",
    "\n",
    "Group these individual unwrapped data into single data."
   ]
  },
  {
   "cell_type": "code",
   "execution_count": 280,
   "id": "247dd6c0",
   "metadata": {},
   "outputs": [
    {
     "data": {
      "text/html": [
       "<div>\n",
       "<style scoped>\n",
       "    .dataframe tbody tr th:only-of-type {\n",
       "        vertical-align: middle;\n",
       "    }\n",
       "\n",
       "    .dataframe tbody tr th {\n",
       "        vertical-align: top;\n",
       "    }\n",
       "\n",
       "    .dataframe thead th {\n",
       "        text-align: right;\n",
       "    }\n",
       "</style>\n",
       "<table border=\"1\" class=\"dataframe\">\n",
       "  <thead>\n",
       "    <tr style=\"text-align: right;\">\n",
       "      <th></th>\n",
       "      <th>show_id</th>\n",
       "      <th>Director</th>\n",
       "      <th>Cast</th>\n",
       "      <th>Country</th>\n",
       "      <th>Genre</th>\n",
       "    </tr>\n",
       "  </thead>\n",
       "  <tbody>\n",
       "    <tr>\n",
       "      <th>0</th>\n",
       "      <td>s1</td>\n",
       "      <td>Kirsten Johnson</td>\n",
       "      <td>David Attenborough</td>\n",
       "      <td>United States</td>\n",
       "      <td>Documentaries</td>\n",
       "    </tr>\n",
       "    <tr>\n",
       "      <th>1</th>\n",
       "      <td>s2</td>\n",
       "      <td>Rajiv Chilaka</td>\n",
       "      <td>Ama Qamata</td>\n",
       "      <td>South Africa</td>\n",
       "      <td>International TV Shows</td>\n",
       "    </tr>\n",
       "    <tr>\n",
       "      <th>2</th>\n",
       "      <td>s2</td>\n",
       "      <td>Rajiv Chilaka</td>\n",
       "      <td>Ama Qamata</td>\n",
       "      <td>South Africa</td>\n",
       "      <td>TV Dramas</td>\n",
       "    </tr>\n",
       "    <tr>\n",
       "      <th>3</th>\n",
       "      <td>s2</td>\n",
       "      <td>Rajiv Chilaka</td>\n",
       "      <td>Ama Qamata</td>\n",
       "      <td>South Africa</td>\n",
       "      <td>TV Mysteries</td>\n",
       "    </tr>\n",
       "    <tr>\n",
       "      <th>4</th>\n",
       "      <td>s2</td>\n",
       "      <td>Rajiv Chilaka</td>\n",
       "      <td>Khosi Ngema</td>\n",
       "      <td>South Africa</td>\n",
       "      <td>International TV Shows</td>\n",
       "    </tr>\n",
       "  </tbody>\n",
       "</table>\n",
       "</div>"
      ],
      "text/plain": [
       "  show_id         Director                Cast        Country  \\\n",
       "0      s1  Kirsten Johnson  David Attenborough  United States   \n",
       "1      s2    Rajiv Chilaka          Ama Qamata   South Africa   \n",
       "2      s2    Rajiv Chilaka          Ama Qamata   South Africa   \n",
       "3      s2    Rajiv Chilaka          Ama Qamata   South Africa   \n",
       "4      s2    Rajiv Chilaka         Khosi Ngema   South Africa   \n",
       "\n",
       "                    Genre  \n",
       "0           Documentaries  \n",
       "1  International TV Shows  \n",
       "2               TV Dramas  \n",
       "3            TV Mysteries  \n",
       "4  International TV Shows  "
      ]
     },
     "execution_count": 280,
     "metadata": {},
     "output_type": "execute_result"
    }
   ],
   "source": [
    "merge_data = unwrap_dir.merge(unwrap_cast, how = \"inner\", on = \"show_id\")\n",
    "merge_data = merge_data.merge(unwrap_country, how = \"inner\",on = \"show_id\")\n",
    "merge_data = merge_data.merge(unwrap_genre, how = \"inner\",on = \"show_id\")\n",
    "\n",
    "merge_data.head()"
   ]
  },
  {
   "cell_type": "markdown",
   "id": "2db540ac",
   "metadata": {},
   "source": [
    "### Merge to Original Data\n",
    "\n",
    "Merge the unwrapped table with the original table with the help of **show_id**."
   ]
  },
  {
   "cell_type": "code",
   "execution_count": 281,
   "id": "d9497df0",
   "metadata": {},
   "outputs": [
    {
     "data": {
      "text/html": [
       "<div>\n",
       "<style scoped>\n",
       "    .dataframe tbody tr th:only-of-type {\n",
       "        vertical-align: middle;\n",
       "    }\n",
       "\n",
       "    .dataframe tbody tr th {\n",
       "        vertical-align: top;\n",
       "    }\n",
       "\n",
       "    .dataframe thead th {\n",
       "        text-align: right;\n",
       "    }\n",
       "</style>\n",
       "<table border=\"1\" class=\"dataframe\">\n",
       "  <thead>\n",
       "    <tr style=\"text-align: right;\">\n",
       "      <th></th>\n",
       "      <th>show_id</th>\n",
       "      <th>type</th>\n",
       "      <th>title</th>\n",
       "      <th>director</th>\n",
       "      <th>cast</th>\n",
       "      <th>country</th>\n",
       "      <th>release_year</th>\n",
       "      <th>rating</th>\n",
       "      <th>duration</th>\n",
       "      <th>listed_in</th>\n",
       "      <th>description</th>\n",
       "      <th>Date</th>\n",
       "      <th>Month</th>\n",
       "      <th>Year</th>\n",
       "      <th>Days</th>\n",
       "      <th>Director</th>\n",
       "      <th>Cast</th>\n",
       "      <th>Country</th>\n",
       "      <th>Genre</th>\n",
       "    </tr>\n",
       "  </thead>\n",
       "  <tbody>\n",
       "    <tr>\n",
       "      <th>0</th>\n",
       "      <td>s1</td>\n",
       "      <td>Movie</td>\n",
       "      <td>Dick Johnson Is Dead</td>\n",
       "      <td>Kirsten Johnson</td>\n",
       "      <td>David Attenborough</td>\n",
       "      <td>United States</td>\n",
       "      <td>2020</td>\n",
       "      <td>PG-13</td>\n",
       "      <td>90 min</td>\n",
       "      <td>Documentaries</td>\n",
       "      <td>As her father nears the end of his life, filmm...</td>\n",
       "      <td>25</td>\n",
       "      <td>September</td>\n",
       "      <td>2021</td>\n",
       "      <td>Saturday</td>\n",
       "      <td>Kirsten Johnson</td>\n",
       "      <td>David Attenborough</td>\n",
       "      <td>United States</td>\n",
       "      <td>Documentaries</td>\n",
       "    </tr>\n",
       "    <tr>\n",
       "      <th>1</th>\n",
       "      <td>s2</td>\n",
       "      <td>TV Show</td>\n",
       "      <td>Blood &amp; Water</td>\n",
       "      <td>Rajiv Chilaka</td>\n",
       "      <td>Ama Qamata, Khosi Ngema, Gail Mabalane, Thaban...</td>\n",
       "      <td>South Africa</td>\n",
       "      <td>2021</td>\n",
       "      <td>TV-MA</td>\n",
       "      <td>2 Seasons</td>\n",
       "      <td>International TV Shows, TV Dramas, TV Mysteries</td>\n",
       "      <td>After crossing paths at a party, a Cape Town t...</td>\n",
       "      <td>24</td>\n",
       "      <td>September</td>\n",
       "      <td>2021</td>\n",
       "      <td>Friday</td>\n",
       "      <td>Rajiv Chilaka</td>\n",
       "      <td>Ama Qamata</td>\n",
       "      <td>South Africa</td>\n",
       "      <td>International TV Shows</td>\n",
       "    </tr>\n",
       "    <tr>\n",
       "      <th>2</th>\n",
       "      <td>s2</td>\n",
       "      <td>TV Show</td>\n",
       "      <td>Blood &amp; Water</td>\n",
       "      <td>Rajiv Chilaka</td>\n",
       "      <td>Ama Qamata, Khosi Ngema, Gail Mabalane, Thaban...</td>\n",
       "      <td>South Africa</td>\n",
       "      <td>2021</td>\n",
       "      <td>TV-MA</td>\n",
       "      <td>2 Seasons</td>\n",
       "      <td>International TV Shows, TV Dramas, TV Mysteries</td>\n",
       "      <td>After crossing paths at a party, a Cape Town t...</td>\n",
       "      <td>24</td>\n",
       "      <td>September</td>\n",
       "      <td>2021</td>\n",
       "      <td>Friday</td>\n",
       "      <td>Rajiv Chilaka</td>\n",
       "      <td>Ama Qamata</td>\n",
       "      <td>South Africa</td>\n",
       "      <td>TV Dramas</td>\n",
       "    </tr>\n",
       "    <tr>\n",
       "      <th>3</th>\n",
       "      <td>s2</td>\n",
       "      <td>TV Show</td>\n",
       "      <td>Blood &amp; Water</td>\n",
       "      <td>Rajiv Chilaka</td>\n",
       "      <td>Ama Qamata, Khosi Ngema, Gail Mabalane, Thaban...</td>\n",
       "      <td>South Africa</td>\n",
       "      <td>2021</td>\n",
       "      <td>TV-MA</td>\n",
       "      <td>2 Seasons</td>\n",
       "      <td>International TV Shows, TV Dramas, TV Mysteries</td>\n",
       "      <td>After crossing paths at a party, a Cape Town t...</td>\n",
       "      <td>24</td>\n",
       "      <td>September</td>\n",
       "      <td>2021</td>\n",
       "      <td>Friday</td>\n",
       "      <td>Rajiv Chilaka</td>\n",
       "      <td>Ama Qamata</td>\n",
       "      <td>South Africa</td>\n",
       "      <td>TV Mysteries</td>\n",
       "    </tr>\n",
       "    <tr>\n",
       "      <th>4</th>\n",
       "      <td>s2</td>\n",
       "      <td>TV Show</td>\n",
       "      <td>Blood &amp; Water</td>\n",
       "      <td>Rajiv Chilaka</td>\n",
       "      <td>Ama Qamata, Khosi Ngema, Gail Mabalane, Thaban...</td>\n",
       "      <td>South Africa</td>\n",
       "      <td>2021</td>\n",
       "      <td>TV-MA</td>\n",
       "      <td>2 Seasons</td>\n",
       "      <td>International TV Shows, TV Dramas, TV Mysteries</td>\n",
       "      <td>After crossing paths at a party, a Cape Town t...</td>\n",
       "      <td>24</td>\n",
       "      <td>September</td>\n",
       "      <td>2021</td>\n",
       "      <td>Friday</td>\n",
       "      <td>Rajiv Chilaka</td>\n",
       "      <td>Khosi Ngema</td>\n",
       "      <td>South Africa</td>\n",
       "      <td>International TV Shows</td>\n",
       "    </tr>\n",
       "  </tbody>\n",
       "</table>\n",
       "</div>"
      ],
      "text/plain": [
       "  show_id     type                 title         director  \\\n",
       "0      s1    Movie  Dick Johnson Is Dead  Kirsten Johnson   \n",
       "1      s2  TV Show         Blood & Water    Rajiv Chilaka   \n",
       "2      s2  TV Show         Blood & Water    Rajiv Chilaka   \n",
       "3      s2  TV Show         Blood & Water    Rajiv Chilaka   \n",
       "4      s2  TV Show         Blood & Water    Rajiv Chilaka   \n",
       "\n",
       "                                                cast        country  \\\n",
       "0                                 David Attenborough  United States   \n",
       "1  Ama Qamata, Khosi Ngema, Gail Mabalane, Thaban...   South Africa   \n",
       "2  Ama Qamata, Khosi Ngema, Gail Mabalane, Thaban...   South Africa   \n",
       "3  Ama Qamata, Khosi Ngema, Gail Mabalane, Thaban...   South Africa   \n",
       "4  Ama Qamata, Khosi Ngema, Gail Mabalane, Thaban...   South Africa   \n",
       "\n",
       "   release_year rating   duration  \\\n",
       "0          2020  PG-13     90 min   \n",
       "1          2021  TV-MA  2 Seasons   \n",
       "2          2021  TV-MA  2 Seasons   \n",
       "3          2021  TV-MA  2 Seasons   \n",
       "4          2021  TV-MA  2 Seasons   \n",
       "\n",
       "                                         listed_in  \\\n",
       "0                                    Documentaries   \n",
       "1  International TV Shows, TV Dramas, TV Mysteries   \n",
       "2  International TV Shows, TV Dramas, TV Mysteries   \n",
       "3  International TV Shows, TV Dramas, TV Mysteries   \n",
       "4  International TV Shows, TV Dramas, TV Mysteries   \n",
       "\n",
       "                                         description  Date      Month  Year  \\\n",
       "0  As her father nears the end of his life, filmm...    25  September  2021   \n",
       "1  After crossing paths at a party, a Cape Town t...    24  September  2021   \n",
       "2  After crossing paths at a party, a Cape Town t...    24  September  2021   \n",
       "3  After crossing paths at a party, a Cape Town t...    24  September  2021   \n",
       "4  After crossing paths at a party, a Cape Town t...    24  September  2021   \n",
       "\n",
       "       Days         Director                Cast        Country  \\\n",
       "0  Saturday  Kirsten Johnson  David Attenborough  United States   \n",
       "1    Friday    Rajiv Chilaka          Ama Qamata   South Africa   \n",
       "2    Friday    Rajiv Chilaka          Ama Qamata   South Africa   \n",
       "3    Friday    Rajiv Chilaka          Ama Qamata   South Africa   \n",
       "4    Friday    Rajiv Chilaka         Khosi Ngema   South Africa   \n",
       "\n",
       "                    Genre  \n",
       "0           Documentaries  \n",
       "1  International TV Shows  \n",
       "2               TV Dramas  \n",
       "3            TV Mysteries  \n",
       "4  International TV Shows  "
      ]
     },
     "execution_count": 281,
     "metadata": {},
     "output_type": "execute_result"
    }
   ],
   "source": [
    "final_data = data.merge(merge_data,how = \"inner\",on = \"show_id\",suffixes = (\"_df1\",\"_df2\"))\n",
    "\n",
    "final_data.head()"
   ]
  },
  {
   "cell_type": "markdown",
   "id": "a8038fb4",
   "metadata": {},
   "source": [
    "### Drop Unwanted Columns in the Dataset \n",
    "\n",
    "Remove the duplicated columns in the Dataset."
   ]
  },
  {
   "cell_type": "code",
   "execution_count": 282,
   "id": "83c4ebab",
   "metadata": {},
   "outputs": [
    {
     "data": {
      "text/html": [
       "<div>\n",
       "<style scoped>\n",
       "    .dataframe tbody tr th:only-of-type {\n",
       "        vertical-align: middle;\n",
       "    }\n",
       "\n",
       "    .dataframe tbody tr th {\n",
       "        vertical-align: top;\n",
       "    }\n",
       "\n",
       "    .dataframe thead th {\n",
       "        text-align: right;\n",
       "    }\n",
       "</style>\n",
       "<table border=\"1\" class=\"dataframe\">\n",
       "  <thead>\n",
       "    <tr style=\"text-align: right;\">\n",
       "      <th></th>\n",
       "      <th>show_id</th>\n",
       "      <th>type</th>\n",
       "      <th>title</th>\n",
       "      <th>release_year</th>\n",
       "      <th>rating</th>\n",
       "      <th>duration</th>\n",
       "      <th>description</th>\n",
       "      <th>Date</th>\n",
       "      <th>Month</th>\n",
       "      <th>Year</th>\n",
       "      <th>Days</th>\n",
       "      <th>Director</th>\n",
       "      <th>Cast</th>\n",
       "      <th>Country</th>\n",
       "      <th>Genre</th>\n",
       "    </tr>\n",
       "  </thead>\n",
       "  <tbody>\n",
       "    <tr>\n",
       "      <th>0</th>\n",
       "      <td>s1</td>\n",
       "      <td>Movie</td>\n",
       "      <td>Dick Johnson Is Dead</td>\n",
       "      <td>2020</td>\n",
       "      <td>PG-13</td>\n",
       "      <td>90 min</td>\n",
       "      <td>As her father nears the end of his life, filmm...</td>\n",
       "      <td>25</td>\n",
       "      <td>September</td>\n",
       "      <td>2021</td>\n",
       "      <td>Saturday</td>\n",
       "      <td>Kirsten Johnson</td>\n",
       "      <td>David Attenborough</td>\n",
       "      <td>United States</td>\n",
       "      <td>Documentaries</td>\n",
       "    </tr>\n",
       "    <tr>\n",
       "      <th>1</th>\n",
       "      <td>s2</td>\n",
       "      <td>TV Show</td>\n",
       "      <td>Blood &amp; Water</td>\n",
       "      <td>2021</td>\n",
       "      <td>TV-MA</td>\n",
       "      <td>2 Seasons</td>\n",
       "      <td>After crossing paths at a party, a Cape Town t...</td>\n",
       "      <td>24</td>\n",
       "      <td>September</td>\n",
       "      <td>2021</td>\n",
       "      <td>Friday</td>\n",
       "      <td>Rajiv Chilaka</td>\n",
       "      <td>Ama Qamata</td>\n",
       "      <td>South Africa</td>\n",
       "      <td>International TV Shows</td>\n",
       "    </tr>\n",
       "    <tr>\n",
       "      <th>2</th>\n",
       "      <td>s2</td>\n",
       "      <td>TV Show</td>\n",
       "      <td>Blood &amp; Water</td>\n",
       "      <td>2021</td>\n",
       "      <td>TV-MA</td>\n",
       "      <td>2 Seasons</td>\n",
       "      <td>After crossing paths at a party, a Cape Town t...</td>\n",
       "      <td>24</td>\n",
       "      <td>September</td>\n",
       "      <td>2021</td>\n",
       "      <td>Friday</td>\n",
       "      <td>Rajiv Chilaka</td>\n",
       "      <td>Ama Qamata</td>\n",
       "      <td>South Africa</td>\n",
       "      <td>TV Dramas</td>\n",
       "    </tr>\n",
       "    <tr>\n",
       "      <th>3</th>\n",
       "      <td>s2</td>\n",
       "      <td>TV Show</td>\n",
       "      <td>Blood &amp; Water</td>\n",
       "      <td>2021</td>\n",
       "      <td>TV-MA</td>\n",
       "      <td>2 Seasons</td>\n",
       "      <td>After crossing paths at a party, a Cape Town t...</td>\n",
       "      <td>24</td>\n",
       "      <td>September</td>\n",
       "      <td>2021</td>\n",
       "      <td>Friday</td>\n",
       "      <td>Rajiv Chilaka</td>\n",
       "      <td>Ama Qamata</td>\n",
       "      <td>South Africa</td>\n",
       "      <td>TV Mysteries</td>\n",
       "    </tr>\n",
       "    <tr>\n",
       "      <th>4</th>\n",
       "      <td>s2</td>\n",
       "      <td>TV Show</td>\n",
       "      <td>Blood &amp; Water</td>\n",
       "      <td>2021</td>\n",
       "      <td>TV-MA</td>\n",
       "      <td>2 Seasons</td>\n",
       "      <td>After crossing paths at a party, a Cape Town t...</td>\n",
       "      <td>24</td>\n",
       "      <td>September</td>\n",
       "      <td>2021</td>\n",
       "      <td>Friday</td>\n",
       "      <td>Rajiv Chilaka</td>\n",
       "      <td>Khosi Ngema</td>\n",
       "      <td>South Africa</td>\n",
       "      <td>International TV Shows</td>\n",
       "    </tr>\n",
       "  </tbody>\n",
       "</table>\n",
       "</div>"
      ],
      "text/plain": [
       "  show_id     type                 title  release_year rating   duration  \\\n",
       "0      s1    Movie  Dick Johnson Is Dead          2020  PG-13     90 min   \n",
       "1      s2  TV Show         Blood & Water          2021  TV-MA  2 Seasons   \n",
       "2      s2  TV Show         Blood & Water          2021  TV-MA  2 Seasons   \n",
       "3      s2  TV Show         Blood & Water          2021  TV-MA  2 Seasons   \n",
       "4      s2  TV Show         Blood & Water          2021  TV-MA  2 Seasons   \n",
       "\n",
       "                                         description  Date      Month  Year  \\\n",
       "0  As her father nears the end of his life, filmm...    25  September  2021   \n",
       "1  After crossing paths at a party, a Cape Town t...    24  September  2021   \n",
       "2  After crossing paths at a party, a Cape Town t...    24  September  2021   \n",
       "3  After crossing paths at a party, a Cape Town t...    24  September  2021   \n",
       "4  After crossing paths at a party, a Cape Town t...    24  September  2021   \n",
       "\n",
       "       Days         Director                Cast        Country  \\\n",
       "0  Saturday  Kirsten Johnson  David Attenborough  United States   \n",
       "1    Friday    Rajiv Chilaka          Ama Qamata   South Africa   \n",
       "2    Friday    Rajiv Chilaka          Ama Qamata   South Africa   \n",
       "3    Friday    Rajiv Chilaka          Ama Qamata   South Africa   \n",
       "4    Friday    Rajiv Chilaka         Khosi Ngema   South Africa   \n",
       "\n",
       "                    Genre  \n",
       "0           Documentaries  \n",
       "1  International TV Shows  \n",
       "2               TV Dramas  \n",
       "3            TV Mysteries  \n",
       "4  International TV Shows  "
      ]
     },
     "execution_count": 282,
     "metadata": {},
     "output_type": "execute_result"
    }
   ],
   "source": [
    "final_data.drop(columns = [\"director\",\"cast\",\"country\",\"listed_in\"],axis = 1,inplace = True)\n",
    "\n",
    "final_data.head()"
   ]
  },
  {
   "cell_type": "code",
   "execution_count": 283,
   "id": "13004c9f",
   "metadata": {},
   "outputs": [
    {
     "data": {
      "text/html": [
       "<div>\n",
       "<style scoped>\n",
       "    .dataframe tbody tr th:only-of-type {\n",
       "        vertical-align: middle;\n",
       "    }\n",
       "\n",
       "    .dataframe tbody tr th {\n",
       "        vertical-align: top;\n",
       "    }\n",
       "\n",
       "    .dataframe thead th {\n",
       "        text-align: right;\n",
       "    }\n",
       "</style>\n",
       "<table border=\"1\" class=\"dataframe\">\n",
       "  <thead>\n",
       "    <tr style=\"text-align: right;\">\n",
       "      <th></th>\n",
       "      <th>show_id</th>\n",
       "      <th>type</th>\n",
       "      <th>title</th>\n",
       "      <th>Director</th>\n",
       "      <th>Cast</th>\n",
       "      <th>Country</th>\n",
       "      <th>release_year</th>\n",
       "      <th>rating</th>\n",
       "      <th>duration</th>\n",
       "      <th>Date</th>\n",
       "      <th>Month</th>\n",
       "      <th>Year</th>\n",
       "      <th>Days</th>\n",
       "      <th>Genre</th>\n",
       "      <th>description</th>\n",
       "    </tr>\n",
       "  </thead>\n",
       "  <tbody>\n",
       "    <tr>\n",
       "      <th>0</th>\n",
       "      <td>s1</td>\n",
       "      <td>Movie</td>\n",
       "      <td>Dick Johnson Is Dead</td>\n",
       "      <td>Kirsten Johnson</td>\n",
       "      <td>David Attenborough</td>\n",
       "      <td>United States</td>\n",
       "      <td>2020</td>\n",
       "      <td>PG-13</td>\n",
       "      <td>90 min</td>\n",
       "      <td>25</td>\n",
       "      <td>September</td>\n",
       "      <td>2021</td>\n",
       "      <td>Saturday</td>\n",
       "      <td>Documentaries</td>\n",
       "      <td>As her father nears the end of his life, filmm...</td>\n",
       "    </tr>\n",
       "    <tr>\n",
       "      <th>1</th>\n",
       "      <td>s2</td>\n",
       "      <td>TV Show</td>\n",
       "      <td>Blood &amp; Water</td>\n",
       "      <td>Rajiv Chilaka</td>\n",
       "      <td>Ama Qamata</td>\n",
       "      <td>South Africa</td>\n",
       "      <td>2021</td>\n",
       "      <td>TV-MA</td>\n",
       "      <td>2 Seasons</td>\n",
       "      <td>24</td>\n",
       "      <td>September</td>\n",
       "      <td>2021</td>\n",
       "      <td>Friday</td>\n",
       "      <td>International TV Shows</td>\n",
       "      <td>After crossing paths at a party, a Cape Town t...</td>\n",
       "    </tr>\n",
       "    <tr>\n",
       "      <th>2</th>\n",
       "      <td>s2</td>\n",
       "      <td>TV Show</td>\n",
       "      <td>Blood &amp; Water</td>\n",
       "      <td>Rajiv Chilaka</td>\n",
       "      <td>Ama Qamata</td>\n",
       "      <td>South Africa</td>\n",
       "      <td>2021</td>\n",
       "      <td>TV-MA</td>\n",
       "      <td>2 Seasons</td>\n",
       "      <td>24</td>\n",
       "      <td>September</td>\n",
       "      <td>2021</td>\n",
       "      <td>Friday</td>\n",
       "      <td>TV Dramas</td>\n",
       "      <td>After crossing paths at a party, a Cape Town t...</td>\n",
       "    </tr>\n",
       "    <tr>\n",
       "      <th>3</th>\n",
       "      <td>s2</td>\n",
       "      <td>TV Show</td>\n",
       "      <td>Blood &amp; Water</td>\n",
       "      <td>Rajiv Chilaka</td>\n",
       "      <td>Ama Qamata</td>\n",
       "      <td>South Africa</td>\n",
       "      <td>2021</td>\n",
       "      <td>TV-MA</td>\n",
       "      <td>2 Seasons</td>\n",
       "      <td>24</td>\n",
       "      <td>September</td>\n",
       "      <td>2021</td>\n",
       "      <td>Friday</td>\n",
       "      <td>TV Mysteries</td>\n",
       "      <td>After crossing paths at a party, a Cape Town t...</td>\n",
       "    </tr>\n",
       "    <tr>\n",
       "      <th>4</th>\n",
       "      <td>s2</td>\n",
       "      <td>TV Show</td>\n",
       "      <td>Blood &amp; Water</td>\n",
       "      <td>Rajiv Chilaka</td>\n",
       "      <td>Khosi Ngema</td>\n",
       "      <td>South Africa</td>\n",
       "      <td>2021</td>\n",
       "      <td>TV-MA</td>\n",
       "      <td>2 Seasons</td>\n",
       "      <td>24</td>\n",
       "      <td>September</td>\n",
       "      <td>2021</td>\n",
       "      <td>Friday</td>\n",
       "      <td>International TV Shows</td>\n",
       "      <td>After crossing paths at a party, a Cape Town t...</td>\n",
       "    </tr>\n",
       "  </tbody>\n",
       "</table>\n",
       "</div>"
      ],
      "text/plain": [
       "  show_id     type                 title         Director                Cast  \\\n",
       "0      s1    Movie  Dick Johnson Is Dead  Kirsten Johnson  David Attenborough   \n",
       "1      s2  TV Show         Blood & Water    Rajiv Chilaka          Ama Qamata   \n",
       "2      s2  TV Show         Blood & Water    Rajiv Chilaka          Ama Qamata   \n",
       "3      s2  TV Show         Blood & Water    Rajiv Chilaka          Ama Qamata   \n",
       "4      s2  TV Show         Blood & Water    Rajiv Chilaka         Khosi Ngema   \n",
       "\n",
       "         Country  release_year rating   duration  Date      Month  Year  \\\n",
       "0  United States          2020  PG-13     90 min    25  September  2021   \n",
       "1   South Africa          2021  TV-MA  2 Seasons    24  September  2021   \n",
       "2   South Africa          2021  TV-MA  2 Seasons    24  September  2021   \n",
       "3   South Africa          2021  TV-MA  2 Seasons    24  September  2021   \n",
       "4   South Africa          2021  TV-MA  2 Seasons    24  September  2021   \n",
       "\n",
       "       Days                   Genre  \\\n",
       "0  Saturday           Documentaries   \n",
       "1    Friday  International TV Shows   \n",
       "2    Friday               TV Dramas   \n",
       "3    Friday            TV Mysteries   \n",
       "4    Friday  International TV Shows   \n",
       "\n",
       "                                         description  \n",
       "0  As her father nears the end of his life, filmm...  \n",
       "1  After crossing paths at a party, a Cape Town t...  \n",
       "2  After crossing paths at a party, a Cape Town t...  \n",
       "3  After crossing paths at a party, a Cape Town t...  \n",
       "4  After crossing paths at a party, a Cape Town t...  "
      ]
     },
     "execution_count": 283,
     "metadata": {},
     "output_type": "execute_result"
    }
   ],
   "source": [
    "final_data = final_data.reindex(columns = [\"show_id\",\"type\",\"title\",\"Director\",\"Cast\",\"Country\",\"release_year\",\"rating\",\"duration\",\"Date\",\"Month\",\"Year\",\"Days\",\"Genre\",\"description\"])\n",
    "final_data.head()"
   ]
  },
  {
   "cell_type": "code",
   "execution_count": 284,
   "id": "0a6df17a",
   "metadata": {},
   "outputs": [
    {
     "data": {
      "text/plain": [
       "(201991, 15)"
      ]
     },
     "execution_count": 284,
     "metadata": {},
     "output_type": "execute_result"
    }
   ],
   "source": [
    "final_data.shape"
   ]
  },
  {
   "cell_type": "code",
   "execution_count": 285,
   "id": "3864bc99",
   "metadata": {},
   "outputs": [
    {
     "data": {
      "text/plain": [
       "2"
      ]
     },
     "execution_count": 285,
     "metadata": {},
     "output_type": "execute_result"
    }
   ],
   "source": [
    "final_data.ndim"
   ]
  },
  {
   "cell_type": "code",
   "execution_count": 286,
   "id": "81724549",
   "metadata": {},
   "outputs": [
    {
     "name": "stdout",
     "output_type": "stream",
     "text": [
      "<class 'pandas.core.frame.DataFrame'>\n",
      "Int64Index: 201991 entries, 0 to 201990\n",
      "Data columns (total 15 columns):\n",
      " #   Column        Non-Null Count   Dtype   \n",
      "---  ------        --------------   -----   \n",
      " 0   show_id       201991 non-null  object  \n",
      " 1   type          201991 non-null  category\n",
      " 2   title         201991 non-null  object  \n",
      " 3   Director      201991 non-null  object  \n",
      " 4   Cast          201991 non-null  object  \n",
      " 5   Country       201991 non-null  object  \n",
      " 6   release_year  201991 non-null  int64   \n",
      " 7   rating        201991 non-null  object  \n",
      " 8   duration      201991 non-null  object  \n",
      " 9   Date          201991 non-null  int64   \n",
      " 10  Month         201991 non-null  object  \n",
      " 11  Year          201991 non-null  int64   \n",
      " 12  Days          201991 non-null  object  \n",
      " 13  Genre         201991 non-null  object  \n",
      " 14  description   201991 non-null  object  \n",
      "dtypes: category(1), int64(3), object(11)\n",
      "memory usage: 23.3+ MB\n"
     ]
    }
   ],
   "source": [
    "final_data.info()"
   ]
  },
  {
   "cell_type": "code",
   "execution_count": 287,
   "id": "2d95b83f",
   "metadata": {},
   "outputs": [
    {
     "data": {
      "text/plain": [
       "show_id         0\n",
       "type            0\n",
       "title           0\n",
       "Director        0\n",
       "Cast            0\n",
       "Country         0\n",
       "release_year    0\n",
       "rating          0\n",
       "duration        0\n",
       "Date            0\n",
       "Month           0\n",
       "Year            0\n",
       "Days            0\n",
       "Genre           0\n",
       "description     0\n",
       "dtype: int64"
      ]
     },
     "execution_count": 287,
     "metadata": {},
     "output_type": "execute_result"
    }
   ],
   "source": [
    "final_data.isnull().sum()"
   ]
  },
  {
   "cell_type": "code",
   "execution_count": 288,
   "id": "7b2aee82",
   "metadata": {},
   "outputs": [
    {
     "data": {
      "text/plain": [
       "55"
      ]
     },
     "execution_count": 288,
     "metadata": {},
     "output_type": "execute_result"
    }
   ],
   "source": [
    "final_data.duplicated().sum()"
   ]
  },
  {
   "cell_type": "markdown",
   "id": "5d3dc5d8",
   "metadata": {},
   "source": [
    "### Drop Duplicate Records\n",
    "\n",
    "There are around 55 number of duplicate records found in the dataset.We have to eliminate or remove that."
   ]
  },
  {
   "cell_type": "code",
   "execution_count": 289,
   "id": "03f60ba8",
   "metadata": {},
   "outputs": [],
   "source": [
    "final_data.drop_duplicates(inplace = True)"
   ]
  },
  {
   "cell_type": "code",
   "execution_count": 290,
   "id": "57a4b6be",
   "metadata": {},
   "outputs": [
    {
     "data": {
      "text/plain": [
       "0"
      ]
     },
     "execution_count": 290,
     "metadata": {},
     "output_type": "execute_result"
    }
   ],
   "source": [
    "final_data.duplicated().sum()"
   ]
  },
  {
   "cell_type": "markdown",
   "id": "dd8a8ca4",
   "metadata": {},
   "source": [
    "**---------------------------------------------------------------------------------------------------------------------------------------------------------------------------------------------------**"
   ]
  },
  {
   "cell_type": "markdown",
   "id": "9ad130b0",
   "metadata": {},
   "source": [
    "## Final Dataset"
   ]
  },
  {
   "cell_type": "code",
   "execution_count": 291,
   "id": "f79b3382",
   "metadata": {},
   "outputs": [
    {
     "data": {
      "text/html": [
       "<div>\n",
       "<style scoped>\n",
       "    .dataframe tbody tr th:only-of-type {\n",
       "        vertical-align: middle;\n",
       "    }\n",
       "\n",
       "    .dataframe tbody tr th {\n",
       "        vertical-align: top;\n",
       "    }\n",
       "\n",
       "    .dataframe thead th {\n",
       "        text-align: right;\n",
       "    }\n",
       "</style>\n",
       "<table border=\"1\" class=\"dataframe\">\n",
       "  <thead>\n",
       "    <tr style=\"text-align: right;\">\n",
       "      <th></th>\n",
       "      <th>show_id</th>\n",
       "      <th>type</th>\n",
       "      <th>title</th>\n",
       "      <th>Director</th>\n",
       "      <th>Cast</th>\n",
       "      <th>Country</th>\n",
       "      <th>release_year</th>\n",
       "      <th>rating</th>\n",
       "      <th>duration</th>\n",
       "      <th>Date</th>\n",
       "      <th>Month</th>\n",
       "      <th>Year</th>\n",
       "      <th>Days</th>\n",
       "      <th>Genre</th>\n",
       "      <th>description</th>\n",
       "    </tr>\n",
       "  </thead>\n",
       "  <tbody>\n",
       "    <tr>\n",
       "      <th>0</th>\n",
       "      <td>s1</td>\n",
       "      <td>Movie</td>\n",
       "      <td>Dick Johnson Is Dead</td>\n",
       "      <td>Kirsten Johnson</td>\n",
       "      <td>David Attenborough</td>\n",
       "      <td>United States</td>\n",
       "      <td>2020</td>\n",
       "      <td>PG-13</td>\n",
       "      <td>90 min</td>\n",
       "      <td>25</td>\n",
       "      <td>September</td>\n",
       "      <td>2021</td>\n",
       "      <td>Saturday</td>\n",
       "      <td>Documentaries</td>\n",
       "      <td>As her father nears the end of his life, filmm...</td>\n",
       "    </tr>\n",
       "    <tr>\n",
       "      <th>1</th>\n",
       "      <td>s2</td>\n",
       "      <td>TV Show</td>\n",
       "      <td>Blood &amp; Water</td>\n",
       "      <td>Rajiv Chilaka</td>\n",
       "      <td>Ama Qamata</td>\n",
       "      <td>South Africa</td>\n",
       "      <td>2021</td>\n",
       "      <td>TV-MA</td>\n",
       "      <td>2 Seasons</td>\n",
       "      <td>24</td>\n",
       "      <td>September</td>\n",
       "      <td>2021</td>\n",
       "      <td>Friday</td>\n",
       "      <td>International TV Shows</td>\n",
       "      <td>After crossing paths at a party, a Cape Town t...</td>\n",
       "    </tr>\n",
       "    <tr>\n",
       "      <th>2</th>\n",
       "      <td>s2</td>\n",
       "      <td>TV Show</td>\n",
       "      <td>Blood &amp; Water</td>\n",
       "      <td>Rajiv Chilaka</td>\n",
       "      <td>Ama Qamata</td>\n",
       "      <td>South Africa</td>\n",
       "      <td>2021</td>\n",
       "      <td>TV-MA</td>\n",
       "      <td>2 Seasons</td>\n",
       "      <td>24</td>\n",
       "      <td>September</td>\n",
       "      <td>2021</td>\n",
       "      <td>Friday</td>\n",
       "      <td>TV Dramas</td>\n",
       "      <td>After crossing paths at a party, a Cape Town t...</td>\n",
       "    </tr>\n",
       "    <tr>\n",
       "      <th>3</th>\n",
       "      <td>s2</td>\n",
       "      <td>TV Show</td>\n",
       "      <td>Blood &amp; Water</td>\n",
       "      <td>Rajiv Chilaka</td>\n",
       "      <td>Ama Qamata</td>\n",
       "      <td>South Africa</td>\n",
       "      <td>2021</td>\n",
       "      <td>TV-MA</td>\n",
       "      <td>2 Seasons</td>\n",
       "      <td>24</td>\n",
       "      <td>September</td>\n",
       "      <td>2021</td>\n",
       "      <td>Friday</td>\n",
       "      <td>TV Mysteries</td>\n",
       "      <td>After crossing paths at a party, a Cape Town t...</td>\n",
       "    </tr>\n",
       "    <tr>\n",
       "      <th>4</th>\n",
       "      <td>s2</td>\n",
       "      <td>TV Show</td>\n",
       "      <td>Blood &amp; Water</td>\n",
       "      <td>Rajiv Chilaka</td>\n",
       "      <td>Khosi Ngema</td>\n",
       "      <td>South Africa</td>\n",
       "      <td>2021</td>\n",
       "      <td>TV-MA</td>\n",
       "      <td>2 Seasons</td>\n",
       "      <td>24</td>\n",
       "      <td>September</td>\n",
       "      <td>2021</td>\n",
       "      <td>Friday</td>\n",
       "      <td>International TV Shows</td>\n",
       "      <td>After crossing paths at a party, a Cape Town t...</td>\n",
       "    </tr>\n",
       "  </tbody>\n",
       "</table>\n",
       "</div>"
      ],
      "text/plain": [
       "  show_id     type                 title         Director                Cast  \\\n",
       "0      s1    Movie  Dick Johnson Is Dead  Kirsten Johnson  David Attenborough   \n",
       "1      s2  TV Show         Blood & Water    Rajiv Chilaka          Ama Qamata   \n",
       "2      s2  TV Show         Blood & Water    Rajiv Chilaka          Ama Qamata   \n",
       "3      s2  TV Show         Blood & Water    Rajiv Chilaka          Ama Qamata   \n",
       "4      s2  TV Show         Blood & Water    Rajiv Chilaka         Khosi Ngema   \n",
       "\n",
       "         Country  release_year rating   duration  Date      Month  Year  \\\n",
       "0  United States          2020  PG-13     90 min    25  September  2021   \n",
       "1   South Africa          2021  TV-MA  2 Seasons    24  September  2021   \n",
       "2   South Africa          2021  TV-MA  2 Seasons    24  September  2021   \n",
       "3   South Africa          2021  TV-MA  2 Seasons    24  September  2021   \n",
       "4   South Africa          2021  TV-MA  2 Seasons    24  September  2021   \n",
       "\n",
       "       Days                   Genre  \\\n",
       "0  Saturday           Documentaries   \n",
       "1    Friday  International TV Shows   \n",
       "2    Friday               TV Dramas   \n",
       "3    Friday            TV Mysteries   \n",
       "4    Friday  International TV Shows   \n",
       "\n",
       "                                         description  \n",
       "0  As her father nears the end of his life, filmm...  \n",
       "1  After crossing paths at a party, a Cape Town t...  \n",
       "2  After crossing paths at a party, a Cape Town t...  \n",
       "3  After crossing paths at a party, a Cape Town t...  \n",
       "4  After crossing paths at a party, a Cape Town t...  "
      ]
     },
     "execution_count": 291,
     "metadata": {},
     "output_type": "execute_result"
    }
   ],
   "source": [
    "final_data.head()"
   ]
  },
  {
   "cell_type": "markdown",
   "id": "ba41df20",
   "metadata": {},
   "source": [
    "### Analyzing Each Columns\n",
    "\n",
    "• Show_id : Unique ID for every Movie / Tv Show\n",
    "\n",
    "• Type : Identifier - A Movie or TV Show\n",
    "\n",
    "• Title : Title of the Movie / Tv Show\n",
    "\n",
    "• Director : Director of the Movie\n",
    "\n",
    "• Cast : Actors involved in the movie/Tv show\n",
    "\n",
    "• Country : Country where the movie/Tv show was produced\n",
    "\n",
    "• Date : Movie/Tv-show added Date\n",
    "\n",
    "• Month : Movie/Tv-show added Month\n",
    "\n",
    "• Year : Movie/Tv-show added Year\n",
    "\n",
    "• Days : Movie/Tv-show added Day\n",
    "\n",
    "• Release_year : Actual Release year of the movie/Tv show\n",
    "\n",
    "• Rating : TV Rating of the movie/Tv show\n",
    "\n",
    "• Duration : Total Duration - in minutes or number of seasons\n",
    "\n",
    "• Listed_in : Genre\n",
    "\n",
    "• Description : The summary description"
   ]
  },
  {
   "cell_type": "markdown",
   "id": "c68cece0",
   "metadata": {},
   "source": [
    "### Shape of the Data"
   ]
  },
  {
   "cell_type": "code",
   "execution_count": 292,
   "id": "7bf36c65",
   "metadata": {},
   "outputs": [
    {
     "data": {
      "text/plain": [
       "(201936, 15)"
      ]
     },
     "execution_count": 292,
     "metadata": {},
     "output_type": "execute_result"
    }
   ],
   "source": [
    "final_data.shape"
   ]
  },
  {
   "cell_type": "markdown",
   "id": "82227f9f",
   "metadata": {},
   "source": [
    "**Shape :** There are 201936 rows and 15 columns."
   ]
  },
  {
   "cell_type": "code",
   "execution_count": 293,
   "id": "dc945ea5",
   "metadata": {},
   "outputs": [
    {
     "data": {
      "text/html": [
       "<div>\n",
       "<style scoped>\n",
       "    .dataframe tbody tr th:only-of-type {\n",
       "        vertical-align: middle;\n",
       "    }\n",
       "\n",
       "    .dataframe tbody tr th {\n",
       "        vertical-align: top;\n",
       "    }\n",
       "\n",
       "    .dataframe thead th {\n",
       "        text-align: right;\n",
       "    }\n",
       "</style>\n",
       "<table border=\"1\" class=\"dataframe\">\n",
       "  <thead>\n",
       "    <tr style=\"text-align: right;\">\n",
       "      <th></th>\n",
       "      <th>count</th>\n",
       "      <th>mean</th>\n",
       "      <th>std</th>\n",
       "      <th>min</th>\n",
       "      <th>25%</th>\n",
       "      <th>50%</th>\n",
       "      <th>75%</th>\n",
       "      <th>max</th>\n",
       "    </tr>\n",
       "  </thead>\n",
       "  <tbody>\n",
       "    <tr>\n",
       "      <th>release_year</th>\n",
       "      <td>201936.0</td>\n",
       "      <td>2013.452277</td>\n",
       "      <td>9.003761</td>\n",
       "      <td>1925.0</td>\n",
       "      <td>2012.0</td>\n",
       "      <td>2016.0</td>\n",
       "      <td>2019.0</td>\n",
       "      <td>2021.0</td>\n",
       "    </tr>\n",
       "    <tr>\n",
       "      <th>Date</th>\n",
       "      <td>201936.0</td>\n",
       "      <td>12.173134</td>\n",
       "      <td>9.848941</td>\n",
       "      <td>1.0</td>\n",
       "      <td>1.0</td>\n",
       "      <td>12.0</td>\n",
       "      <td>20.0</td>\n",
       "      <td>31.0</td>\n",
       "    </tr>\n",
       "    <tr>\n",
       "      <th>Year</th>\n",
       "      <td>201936.0</td>\n",
       "      <td>2018.965969</td>\n",
       "      <td>1.551567</td>\n",
       "      <td>2008.0</td>\n",
       "      <td>2018.0</td>\n",
       "      <td>2019.0</td>\n",
       "      <td>2020.0</td>\n",
       "      <td>2021.0</td>\n",
       "    </tr>\n",
       "  </tbody>\n",
       "</table>\n",
       "</div>"
      ],
      "text/plain": [
       "                 count         mean       std     min     25%     50%     75%  \\\n",
       "release_year  201936.0  2013.452277  9.003761  1925.0  2012.0  2016.0  2019.0   \n",
       "Date          201936.0    12.173134  9.848941     1.0     1.0    12.0    20.0   \n",
       "Year          201936.0  2018.965969  1.551567  2008.0  2018.0  2019.0  2020.0   \n",
       "\n",
       "                 max  \n",
       "release_year  2021.0  \n",
       "Date            31.0  \n",
       "Year          2021.0  "
      ]
     },
     "execution_count": 293,
     "metadata": {},
     "output_type": "execute_result"
    }
   ],
   "source": [
    "final_data.describe().transpose()"
   ]
  },
  {
   "cell_type": "code",
   "execution_count": 294,
   "id": "943eab51",
   "metadata": {},
   "outputs": [
    {
     "data": {
      "text/html": [
       "<div>\n",
       "<style scoped>\n",
       "    .dataframe tbody tr th:only-of-type {\n",
       "        vertical-align: middle;\n",
       "    }\n",
       "\n",
       "    .dataframe tbody tr th {\n",
       "        vertical-align: top;\n",
       "    }\n",
       "\n",
       "    .dataframe thead th {\n",
       "        text-align: right;\n",
       "    }\n",
       "</style>\n",
       "<table border=\"1\" class=\"dataframe\">\n",
       "  <thead>\n",
       "    <tr style=\"text-align: right;\">\n",
       "      <th></th>\n",
       "      <th>show_id</th>\n",
       "      <th>title</th>\n",
       "      <th>Director</th>\n",
       "      <th>Cast</th>\n",
       "      <th>Country</th>\n",
       "      <th>rating</th>\n",
       "      <th>duration</th>\n",
       "      <th>Month</th>\n",
       "      <th>Days</th>\n",
       "      <th>Genre</th>\n",
       "      <th>description</th>\n",
       "    </tr>\n",
       "  </thead>\n",
       "  <tbody>\n",
       "    <tr>\n",
       "      <th>count</th>\n",
       "      <td>201936</td>\n",
       "      <td>201936</td>\n",
       "      <td>201936</td>\n",
       "      <td>201936</td>\n",
       "      <td>201936</td>\n",
       "      <td>201936</td>\n",
       "      <td>201936</td>\n",
       "      <td>201936</td>\n",
       "      <td>201936</td>\n",
       "      <td>201936</td>\n",
       "      <td>201936</td>\n",
       "    </tr>\n",
       "    <tr>\n",
       "      <th>unique</th>\n",
       "      <td>8807</td>\n",
       "      <td>8807</td>\n",
       "      <td>4993</td>\n",
       "      <td>36439</td>\n",
       "      <td>127</td>\n",
       "      <td>17</td>\n",
       "      <td>220</td>\n",
       "      <td>12</td>\n",
       "      <td>7</td>\n",
       "      <td>42</td>\n",
       "      <td>8775</td>\n",
       "    </tr>\n",
       "    <tr>\n",
       "      <th>top</th>\n",
       "      <td>s7165</td>\n",
       "      <td>Kahlil Gibran's The Prophet</td>\n",
       "      <td>Rajiv Chilaka</td>\n",
       "      <td>David Attenborough</td>\n",
       "      <td>United States</td>\n",
       "      <td>TV-MA</td>\n",
       "      <td>1 Season</td>\n",
       "      <td>July</td>\n",
       "      <td>Friday</td>\n",
       "      <td>Dramas</td>\n",
       "      <td>A troubled young girl and her mother find sola...</td>\n",
       "    </tr>\n",
       "    <tr>\n",
       "      <th>freq</th>\n",
       "      <td>700</td>\n",
       "      <td>700</td>\n",
       "      <td>50790</td>\n",
       "      <td>2249</td>\n",
       "      <td>71221</td>\n",
       "      <td>73886</td>\n",
       "      <td>35038</td>\n",
       "      <td>20276</td>\n",
       "      <td>57977</td>\n",
       "      <td>29756</td>\n",
       "      <td>700</td>\n",
       "    </tr>\n",
       "  </tbody>\n",
       "</table>\n",
       "</div>"
      ],
      "text/plain": [
       "       show_id                        title       Director  \\\n",
       "count   201936                       201936         201936   \n",
       "unique    8807                         8807           4993   \n",
       "top      s7165  Kahlil Gibran's The Prophet  Rajiv Chilaka   \n",
       "freq       700                          700          50790   \n",
       "\n",
       "                      Cast        Country  rating  duration   Month    Days  \\\n",
       "count               201936         201936  201936    201936  201936  201936   \n",
       "unique               36439            127      17       220      12       7   \n",
       "top     David Attenborough  United States   TV-MA  1 Season    July  Friday   \n",
       "freq                  2249          71221   73886     35038   20276   57977   \n",
       "\n",
       "         Genre                                        description  \n",
       "count   201936                                             201936  \n",
       "unique      42                                               8775  \n",
       "top     Dramas  A troubled young girl and her mother find sola...  \n",
       "freq     29756                                                700  "
      ]
     },
     "execution_count": 294,
     "metadata": {},
     "output_type": "execute_result"
    }
   ],
   "source": [
    "final_data.describe(include = \"object\")"
   ]
  },
  {
   "cell_type": "markdown",
   "id": "31675331",
   "metadata": {},
   "source": [
    "**---------------------------------------------------------------------------------------------------------------------------------------------------------------------------------------------------**"
   ]
  },
  {
   "cell_type": "markdown",
   "id": "d1074252",
   "metadata": {},
   "source": [
    "## Exploratory Data Analysis"
   ]
  },
  {
   "cell_type": "code",
   "execution_count": 295,
   "id": "48a1f10b",
   "metadata": {},
   "outputs": [
    {
     "data": {
      "text/html": [
       "<div>\n",
       "<style scoped>\n",
       "    .dataframe tbody tr th:only-of-type {\n",
       "        vertical-align: middle;\n",
       "    }\n",
       "\n",
       "    .dataframe tbody tr th {\n",
       "        vertical-align: top;\n",
       "    }\n",
       "\n",
       "    .dataframe thead th {\n",
       "        text-align: right;\n",
       "    }\n",
       "</style>\n",
       "<table border=\"1\" class=\"dataframe\">\n",
       "  <thead>\n",
       "    <tr style=\"text-align: right;\">\n",
       "      <th></th>\n",
       "      <th>show_id</th>\n",
       "      <th>type</th>\n",
       "      <th>title</th>\n",
       "      <th>Director</th>\n",
       "      <th>Cast</th>\n",
       "      <th>Country</th>\n",
       "      <th>release_year</th>\n",
       "      <th>rating</th>\n",
       "      <th>duration</th>\n",
       "      <th>Date</th>\n",
       "      <th>Month</th>\n",
       "      <th>Year</th>\n",
       "      <th>Days</th>\n",
       "      <th>Genre</th>\n",
       "      <th>description</th>\n",
       "    </tr>\n",
       "  </thead>\n",
       "  <tbody>\n",
       "    <tr>\n",
       "      <th>0</th>\n",
       "      <td>s1</td>\n",
       "      <td>Movie</td>\n",
       "      <td>Dick Johnson Is Dead</td>\n",
       "      <td>Kirsten Johnson</td>\n",
       "      <td>David Attenborough</td>\n",
       "      <td>United States</td>\n",
       "      <td>2020</td>\n",
       "      <td>PG-13</td>\n",
       "      <td>90 min</td>\n",
       "      <td>25</td>\n",
       "      <td>September</td>\n",
       "      <td>2021</td>\n",
       "      <td>Saturday</td>\n",
       "      <td>Documentaries</td>\n",
       "      <td>As her father nears the end of his life, filmm...</td>\n",
       "    </tr>\n",
       "    <tr>\n",
       "      <th>1</th>\n",
       "      <td>s2</td>\n",
       "      <td>TV Show</td>\n",
       "      <td>Blood &amp; Water</td>\n",
       "      <td>Rajiv Chilaka</td>\n",
       "      <td>Ama Qamata</td>\n",
       "      <td>South Africa</td>\n",
       "      <td>2021</td>\n",
       "      <td>TV-MA</td>\n",
       "      <td>2 Seasons</td>\n",
       "      <td>24</td>\n",
       "      <td>September</td>\n",
       "      <td>2021</td>\n",
       "      <td>Friday</td>\n",
       "      <td>International TV Shows</td>\n",
       "      <td>After crossing paths at a party, a Cape Town t...</td>\n",
       "    </tr>\n",
       "    <tr>\n",
       "      <th>2</th>\n",
       "      <td>s2</td>\n",
       "      <td>TV Show</td>\n",
       "      <td>Blood &amp; Water</td>\n",
       "      <td>Rajiv Chilaka</td>\n",
       "      <td>Ama Qamata</td>\n",
       "      <td>South Africa</td>\n",
       "      <td>2021</td>\n",
       "      <td>TV-MA</td>\n",
       "      <td>2 Seasons</td>\n",
       "      <td>24</td>\n",
       "      <td>September</td>\n",
       "      <td>2021</td>\n",
       "      <td>Friday</td>\n",
       "      <td>TV Dramas</td>\n",
       "      <td>After crossing paths at a party, a Cape Town t...</td>\n",
       "    </tr>\n",
       "    <tr>\n",
       "      <th>3</th>\n",
       "      <td>s2</td>\n",
       "      <td>TV Show</td>\n",
       "      <td>Blood &amp; Water</td>\n",
       "      <td>Rajiv Chilaka</td>\n",
       "      <td>Ama Qamata</td>\n",
       "      <td>South Africa</td>\n",
       "      <td>2021</td>\n",
       "      <td>TV-MA</td>\n",
       "      <td>2 Seasons</td>\n",
       "      <td>24</td>\n",
       "      <td>September</td>\n",
       "      <td>2021</td>\n",
       "      <td>Friday</td>\n",
       "      <td>TV Mysteries</td>\n",
       "      <td>After crossing paths at a party, a Cape Town t...</td>\n",
       "    </tr>\n",
       "    <tr>\n",
       "      <th>4</th>\n",
       "      <td>s2</td>\n",
       "      <td>TV Show</td>\n",
       "      <td>Blood &amp; Water</td>\n",
       "      <td>Rajiv Chilaka</td>\n",
       "      <td>Khosi Ngema</td>\n",
       "      <td>South Africa</td>\n",
       "      <td>2021</td>\n",
       "      <td>TV-MA</td>\n",
       "      <td>2 Seasons</td>\n",
       "      <td>24</td>\n",
       "      <td>September</td>\n",
       "      <td>2021</td>\n",
       "      <td>Friday</td>\n",
       "      <td>International TV Shows</td>\n",
       "      <td>After crossing paths at a party, a Cape Town t...</td>\n",
       "    </tr>\n",
       "  </tbody>\n",
       "</table>\n",
       "</div>"
      ],
      "text/plain": [
       "  show_id     type                 title         Director                Cast  \\\n",
       "0      s1    Movie  Dick Johnson Is Dead  Kirsten Johnson  David Attenborough   \n",
       "1      s2  TV Show         Blood & Water    Rajiv Chilaka          Ama Qamata   \n",
       "2      s2  TV Show         Blood & Water    Rajiv Chilaka          Ama Qamata   \n",
       "3      s2  TV Show         Blood & Water    Rajiv Chilaka          Ama Qamata   \n",
       "4      s2  TV Show         Blood & Water    Rajiv Chilaka         Khosi Ngema   \n",
       "\n",
       "         Country  release_year rating   duration  Date      Month  Year  \\\n",
       "0  United States          2020  PG-13     90 min    25  September  2021   \n",
       "1   South Africa          2021  TV-MA  2 Seasons    24  September  2021   \n",
       "2   South Africa          2021  TV-MA  2 Seasons    24  September  2021   \n",
       "3   South Africa          2021  TV-MA  2 Seasons    24  September  2021   \n",
       "4   South Africa          2021  TV-MA  2 Seasons    24  September  2021   \n",
       "\n",
       "       Days                   Genre  \\\n",
       "0  Saturday           Documentaries   \n",
       "1    Friday  International TV Shows   \n",
       "2    Friday               TV Dramas   \n",
       "3    Friday            TV Mysteries   \n",
       "4    Friday  International TV Shows   \n",
       "\n",
       "                                         description  \n",
       "0  As her father nears the end of his life, filmm...  \n",
       "1  After crossing paths at a party, a Cape Town t...  \n",
       "2  After crossing paths at a party, a Cape Town t...  \n",
       "3  After crossing paths at a party, a Cape Town t...  \n",
       "4  After crossing paths at a party, a Cape Town t...  "
      ]
     },
     "execution_count": 295,
     "metadata": {},
     "output_type": "execute_result"
    }
   ],
   "source": [
    "final_data.head()"
   ]
  },
  {
   "cell_type": "markdown",
   "id": "6d355b4c",
   "metadata": {},
   "source": [
    "#### Type"
   ]
  },
  {
   "cell_type": "code",
   "execution_count": 296,
   "id": "1ae425dd",
   "metadata": {},
   "outputs": [
    {
     "data": {
      "text/html": [
       "<div>\n",
       "<style scoped>\n",
       "    .dataframe tbody tr th:only-of-type {\n",
       "        vertical-align: middle;\n",
       "    }\n",
       "\n",
       "    .dataframe tbody tr th {\n",
       "        vertical-align: top;\n",
       "    }\n",
       "\n",
       "    .dataframe thead th {\n",
       "        text-align: right;\n",
       "    }\n",
       "</style>\n",
       "<table border=\"1\" class=\"dataframe\">\n",
       "  <thead>\n",
       "    <tr style=\"text-align: right;\">\n",
       "      <th></th>\n",
       "      <th>Type</th>\n",
       "      <th>Count</th>\n",
       "    </tr>\n",
       "  </thead>\n",
       "  <tbody>\n",
       "    <tr>\n",
       "      <th>0</th>\n",
       "      <td>Movie</td>\n",
       "      <td>6131</td>\n",
       "    </tr>\n",
       "    <tr>\n",
       "      <th>1</th>\n",
       "      <td>TV Show</td>\n",
       "      <td>2676</td>\n",
       "    </tr>\n",
       "  </tbody>\n",
       "</table>\n",
       "</div>"
      ],
      "text/plain": [
       "      Type  Count\n",
       "0    Movie   6131\n",
       "1  TV Show   2676"
      ]
     },
     "execution_count": 296,
     "metadata": {},
     "output_type": "execute_result"
    }
   ],
   "source": [
    "value_type = final_data.groupby([\"type\"])[\"show_id\"].nunique().to_frame().reset_index()\n",
    "value_type.rename(columns = {\"type\":\"Type\",\"show_id\":\"Count\"},inplace = True)\n",
    "value_type.sort_values(by = \"Count\",ascending = False,inplace = True)\n",
    "value_type.head()"
   ]
  },
  {
   "cell_type": "code",
   "execution_count": 297,
   "id": "a3738842",
   "metadata": {},
   "outputs": [
    {
     "data": {
      "image/png": "[encoded data removed]",
      "text/plain": [
       "<Figure size 500x300 with 1 Axes>"
      ]
     },
     "metadata": {},
     "output_type": "display_data"
    }
   ],
   "source": [
    "sns.set_style(\"darkgrid\")\n",
    "\n",
    "plt.figure(figsize = (5,3))\n",
    "\n",
    "sns.barplot(data = value_type,x = \"Type\",y = \"Count\",width = 0.3,palette = \"magma\",ec = \"k\")\n",
    "plt.title(\"Type of Contents\",fontdict = {\"family\":\"Arial\",\"size\":15})\n",
    "plt.xlabel(\"Type\",fontdict = {\"family\":\"Arial\",\"size\":10})\n",
    "plt.ylabel(\"Count\",fontdict = {\"family\":\"Arial\",\"size\":10})\n",
    "plt.show()"
   ]
  },
  {
   "cell_type": "markdown",
   "id": "abd511c0",
   "metadata": {},
   "source": [
    "**Insights :** \n",
    "\n",
    "1.There 6131 Movies and 2676 Tv-shows in the data.\n",
    "\n",
    "2.Movies are the most dominating one in this data."
   ]
  },
  {
   "cell_type": "markdown",
   "id": "1899be92",
   "metadata": {},
   "source": [
    "#### Director"
   ]
  },
  {
   "cell_type": "code",
   "execution_count": 298,
   "id": "c0369a53",
   "metadata": {},
   "outputs": [
    {
     "data": {
      "text/html": [
       "<div>\n",
       "<style scoped>\n",
       "    .dataframe tbody tr th:only-of-type {\n",
       "        vertical-align: middle;\n",
       "    }\n",
       "\n",
       "    .dataframe tbody tr th {\n",
       "        vertical-align: top;\n",
       "    }\n",
       "\n",
       "    .dataframe thead th {\n",
       "        text-align: right;\n",
       "    }\n",
       "</style>\n",
       "<table border=\"1\" class=\"dataframe\">\n",
       "  <thead>\n",
       "    <tr style=\"text-align: right;\">\n",
       "      <th></th>\n",
       "      <th>Director</th>\n",
       "      <th>Count</th>\n",
       "    </tr>\n",
       "  </thead>\n",
       "  <tbody>\n",
       "    <tr>\n",
       "      <th>3749</th>\n",
       "      <td>Rajiv Chilaka</td>\n",
       "      <td>2656</td>\n",
       "    </tr>\n",
       "    <tr>\n",
       "      <th>1906</th>\n",
       "      <td>Jan Suter</td>\n",
       "      <td>21</td>\n",
       "    </tr>\n",
       "    <tr>\n",
       "      <th>3800</th>\n",
       "      <td>Raúl Campos</td>\n",
       "      <td>19</td>\n",
       "    </tr>\n",
       "    <tr>\n",
       "      <th>4457</th>\n",
       "      <td>Suhas Kadav</td>\n",
       "      <td>16</td>\n",
       "    </tr>\n",
       "    <tr>\n",
       "      <th>2866</th>\n",
       "      <td>Marcus Raboy</td>\n",
       "      <td>16</td>\n",
       "    </tr>\n",
       "  </tbody>\n",
       "</table>\n",
       "</div>"
      ],
      "text/plain": [
       "           Director  Count\n",
       "3749  Rajiv Chilaka   2656\n",
       "1906      Jan Suter     21\n",
       "3800    Raúl Campos     19\n",
       "4457    Suhas Kadav     16\n",
       "2866   Marcus Raboy     16"
      ]
     },
     "execution_count": 298,
     "metadata": {},
     "output_type": "execute_result"
    }
   ],
   "source": [
    "value_director = final_data.groupby([\"Director\"])[\"show_id\"].nunique().to_frame().reset_index()\n",
    "value_director.rename(columns = {\"show_id\":\"Count\"},inplace = True)\n",
    "value_director.sort_values(by = \"Count\",ascending = False,inplace = True)\n",
    "value_director.head()"
   ]
  },
  {
   "cell_type": "markdown",
   "id": "63357d6d",
   "metadata": {},
   "source": [
    "**Insights :** \n",
    "\n",
    "1.These are the Top 5 Directors who directes most number of Movies or Tv-shows.\n",
    "\n",
    "2.Among these Rajiv Chilaka directes the most number of Movies/Tv-shows."
   ]
  },
  {
   "cell_type": "markdown",
   "id": "5eb436b9",
   "metadata": {},
   "source": [
    "#### Cast"
   ]
  },
  {
   "cell_type": "code",
   "execution_count": 299,
   "id": "a08b183f",
   "metadata": {},
   "outputs": [
    {
     "data": {
      "text/html": [
       "<div>\n",
       "<style scoped>\n",
       "    .dataframe tbody tr th:only-of-type {\n",
       "        vertical-align: middle;\n",
       "    }\n",
       "\n",
       "    .dataframe tbody tr th {\n",
       "        vertical-align: top;\n",
       "    }\n",
       "\n",
       "    .dataframe thead th {\n",
       "        text-align: right;\n",
       "    }\n",
       "</style>\n",
       "<table border=\"1\" class=\"dataframe\">\n",
       "  <thead>\n",
       "    <tr style=\"text-align: right;\">\n",
       "      <th></th>\n",
       "      <th>Cast</th>\n",
       "      <th>Count</th>\n",
       "    </tr>\n",
       "  </thead>\n",
       "  <tbody>\n",
       "    <tr>\n",
       "      <th>7832</th>\n",
       "      <td>David Attenborough</td>\n",
       "      <td>845</td>\n",
       "    </tr>\n",
       "    <tr>\n",
       "      <th>2833</th>\n",
       "      <td>Anupam Kher</td>\n",
       "      <td>43</td>\n",
       "    </tr>\n",
       "    <tr>\n",
       "      <th>30489</th>\n",
       "      <td>Shah Rukh Khan</td>\n",
       "      <td>35</td>\n",
       "    </tr>\n",
       "    <tr>\n",
       "      <th>16697</th>\n",
       "      <td>Julie Tejwani</td>\n",
       "      <td>33</td>\n",
       "    </tr>\n",
       "    <tr>\n",
       "      <th>32591</th>\n",
       "      <td>Takahiro Sakurai</td>\n",
       "      <td>32</td>\n",
       "    </tr>\n",
       "  </tbody>\n",
       "</table>\n",
       "</div>"
      ],
      "text/plain": [
       "                     Cast  Count\n",
       "7832   David Attenborough    845\n",
       "2833          Anupam Kher     43\n",
       "30489      Shah Rukh Khan     35\n",
       "16697       Julie Tejwani     33\n",
       "32591    Takahiro Sakurai     32"
      ]
     },
     "execution_count": 299,
     "metadata": {},
     "output_type": "execute_result"
    }
   ],
   "source": [
    "value_cast = final_data.groupby([\"Cast\"])[\"show_id\"].nunique().to_frame().reset_index()\n",
    "value_cast.rename(columns = {\"show_id\":\"Count\"},inplace = True)\n",
    "value_cast.sort_values(by = \"Count\",inplace = True,ascending = False)\n",
    "value_cast.head()"
   ]
  },
  {
   "cell_type": "markdown",
   "id": "dd8f0724",
   "metadata": {},
   "source": [
    "**Insights :** \n",
    "\n",
    "1.These are the Top 5 Cast who acts most number of Movies or Tv-shows.\n",
    "\n",
    "2.Among these David Attenborough acts the most number of Movies/Tv-shows."
   ]
  },
  {
   "cell_type": "markdown",
   "id": "70551c3c",
   "metadata": {},
   "source": [
    "#### Country"
   ]
  },
  {
   "cell_type": "code",
   "execution_count": 300,
   "id": "b5a5b1fb",
   "metadata": {},
   "outputs": [
    {
     "data": {
      "text/html": [
       "<div>\n",
       "<style scoped>\n",
       "    .dataframe tbody tr th:only-of-type {\n",
       "        vertical-align: middle;\n",
       "    }\n",
       "\n",
       "    .dataframe tbody tr th {\n",
       "        vertical-align: top;\n",
       "    }\n",
       "\n",
       "    .dataframe thead th {\n",
       "        text-align: right;\n",
       "    }\n",
       "</style>\n",
       "<table border=\"1\" class=\"dataframe\">\n",
       "  <thead>\n",
       "    <tr style=\"text-align: right;\">\n",
       "      <th></th>\n",
       "      <th>Country</th>\n",
       "      <th>Count</th>\n",
       "    </tr>\n",
       "  </thead>\n",
       "  <tbody>\n",
       "    <tr>\n",
       "      <th>119</th>\n",
       "      <td>United States</td>\n",
       "      <td>4520</td>\n",
       "    </tr>\n",
       "    <tr>\n",
       "      <th>47</th>\n",
       "      <td>India</td>\n",
       "      <td>1046</td>\n",
       "    </tr>\n",
       "    <tr>\n",
       "      <th>117</th>\n",
       "      <td>United Kingdom</td>\n",
       "      <td>804</td>\n",
       "    </tr>\n",
       "    <tr>\n",
       "      <th>22</th>\n",
       "      <td>Canada</td>\n",
       "      <td>445</td>\n",
       "    </tr>\n",
       "    <tr>\n",
       "      <th>38</th>\n",
       "      <td>France</td>\n",
       "      <td>393</td>\n",
       "    </tr>\n",
       "  </tbody>\n",
       "</table>\n",
       "</div>"
      ],
      "text/plain": [
       "            Country  Count\n",
       "119   United States   4520\n",
       "47            India   1046\n",
       "117  United Kingdom    804\n",
       "22           Canada    445\n",
       "38           France    393"
      ]
     },
     "execution_count": 300,
     "metadata": {},
     "output_type": "execute_result"
    }
   ],
   "source": [
    "value_country = final_data.groupby([\"Country\"])[\"show_id\"].nunique().to_frame().reset_index()\n",
    "value_country.rename(columns = {\"show_id\":\"Count\"},inplace = True)\n",
    "value_country.sort_values(by = \"Count\",inplace = True,ascending = False)\n",
    "value_country.head()"
   ]
  },
  {
   "cell_type": "markdown",
   "id": "d070e00e",
   "metadata": {},
   "source": [
    "**Insights :** \n",
    "\n",
    "1.These are the Top 5 Countries with most number of releases.\n",
    "\n",
    "2.Among these United States have the most number of releases."
   ]
  },
  {
   "cell_type": "markdown",
   "id": "4fc9285a",
   "metadata": {},
   "source": [
    "#### Genre"
   ]
  },
  {
   "cell_type": "code",
   "execution_count": 301,
   "id": "0fec61ba",
   "metadata": {},
   "outputs": [
    {
     "data": {
      "text/html": [
       "<div>\n",
       "<style scoped>\n",
       "    .dataframe tbody tr th:only-of-type {\n",
       "        vertical-align: middle;\n",
       "    }\n",
       "\n",
       "    .dataframe tbody tr th {\n",
       "        vertical-align: top;\n",
       "    }\n",
       "\n",
       "    .dataframe thead th {\n",
       "        text-align: right;\n",
       "    }\n",
       "</style>\n",
       "<table border=\"1\" class=\"dataframe\">\n",
       "  <thead>\n",
       "    <tr style=\"text-align: right;\">\n",
       "      <th></th>\n",
       "      <th>Genre</th>\n",
       "      <th>Count</th>\n",
       "    </tr>\n",
       "  </thead>\n",
       "  <tbody>\n",
       "    <tr>\n",
       "      <th>16</th>\n",
       "      <td>International Movies</td>\n",
       "      <td>2752</td>\n",
       "    </tr>\n",
       "    <tr>\n",
       "      <th>12</th>\n",
       "      <td>Dramas</td>\n",
       "      <td>2427</td>\n",
       "    </tr>\n",
       "    <tr>\n",
       "      <th>7</th>\n",
       "      <td>Comedies</td>\n",
       "      <td>1674</td>\n",
       "    </tr>\n",
       "    <tr>\n",
       "      <th>17</th>\n",
       "      <td>International TV Shows</td>\n",
       "      <td>1351</td>\n",
       "    </tr>\n",
       "    <tr>\n",
       "      <th>10</th>\n",
       "      <td>Documentaries</td>\n",
       "      <td>869</td>\n",
       "    </tr>\n",
       "    <tr>\n",
       "      <th>0</th>\n",
       "      <td>Action &amp; Adventure</td>\n",
       "      <td>859</td>\n",
       "    </tr>\n",
       "    <tr>\n",
       "      <th>34</th>\n",
       "      <td>TV Dramas</td>\n",
       "      <td>763</td>\n",
       "    </tr>\n",
       "    <tr>\n",
       "      <th>15</th>\n",
       "      <td>Independent Movies</td>\n",
       "      <td>756</td>\n",
       "    </tr>\n",
       "    <tr>\n",
       "      <th>4</th>\n",
       "      <td>Children &amp; Family Movies</td>\n",
       "      <td>641</td>\n",
       "    </tr>\n",
       "    <tr>\n",
       "      <th>24</th>\n",
       "      <td>Romantic Movies</td>\n",
       "      <td>616</td>\n",
       "    </tr>\n",
       "  </tbody>\n",
       "</table>\n",
       "</div>"
      ],
      "text/plain": [
       "                       Genre  Count\n",
       "16      International Movies   2752\n",
       "12                    Dramas   2427\n",
       "7                   Comedies   1674\n",
       "17    International TV Shows   1351\n",
       "10             Documentaries    869\n",
       "0         Action & Adventure    859\n",
       "34                 TV Dramas    763\n",
       "15        Independent Movies    756\n",
       "4   Children & Family Movies    641\n",
       "24           Romantic Movies    616"
      ]
     },
     "execution_count": 301,
     "metadata": {},
     "output_type": "execute_result"
    }
   ],
   "source": [
    "value_genre = final_data.groupby([\"Genre\"])[\"show_id\"].nunique().to_frame().reset_index()\n",
    "value_genre.rename(columns = {\"show_id\":\"Count\"},inplace = True)\n",
    "value_genre.sort_values(by = \"Count\",inplace = True,ascending = False)\n",
    "value_genre.head(10)"
   ]
  },
  {
   "cell_type": "code",
   "execution_count": 302,
   "id": "c9b0910c",
   "metadata": {},
   "outputs": [
    {
     "data": {
      "image/png": "[encoded data removed]",
      "text/plain": [
       "<Figure size 1200x500 with 1 Axes>"
      ]
     },
     "metadata": {},
     "output_type": "display_data"
    }
   ],
   "source": [
    "plt.figure(figsize=(12,5))\n",
    "plt.title(\"Movie Genre\",fontdict = {\"family\":\"Arial\",\"size\":10})\n",
    "sns.barplot(data = value_genre,x = \"Genre\",y = \"Count\",ec = \"k\")\n",
    "plt.xticks(rotation = 90)\n",
    "plt.show()"
   ]
  },
  {
   "cell_type": "markdown",
   "id": "cc97863e",
   "metadata": {},
   "source": [
    "**Insights :** \n",
    "\n",
    "1.More Number of Movies released in the Genre International Movies.\n"
   ]
  },
  {
   "cell_type": "markdown",
   "id": "35024232",
   "metadata": {},
   "source": [
    "#### Ratings"
   ]
  },
  {
   "cell_type": "code",
   "execution_count": 303,
   "id": "3e963caa",
   "metadata": {
    "scrolled": false
   },
   "outputs": [
    {
     "data": {
      "text/html": [
       "<div>\n",
       "<style scoped>\n",
       "    .dataframe tbody tr th:only-of-type {\n",
       "        vertical-align: middle;\n",
       "    }\n",
       "\n",
       "    .dataframe tbody tr th {\n",
       "        vertical-align: top;\n",
       "    }\n",
       "\n",
       "    .dataframe thead th {\n",
       "        text-align: right;\n",
       "    }\n",
       "</style>\n",
       "<table border=\"1\" class=\"dataframe\">\n",
       "  <thead>\n",
       "    <tr style=\"text-align: right;\">\n",
       "      <th></th>\n",
       "      <th>rating</th>\n",
       "      <th>Count</th>\n",
       "    </tr>\n",
       "  </thead>\n",
       "  <tbody>\n",
       "    <tr>\n",
       "      <th>11</th>\n",
       "      <td>TV-MA</td>\n",
       "      <td>3211</td>\n",
       "    </tr>\n",
       "    <tr>\n",
       "      <th>9</th>\n",
       "      <td>TV-14</td>\n",
       "      <td>2160</td>\n",
       "    </tr>\n",
       "    <tr>\n",
       "      <th>12</th>\n",
       "      <td>TV-PG</td>\n",
       "      <td>863</td>\n",
       "    </tr>\n",
       "    <tr>\n",
       "      <th>8</th>\n",
       "      <td>R</td>\n",
       "      <td>799</td>\n",
       "    </tr>\n",
       "    <tr>\n",
       "      <th>7</th>\n",
       "      <td>PG-13</td>\n",
       "      <td>490</td>\n",
       "    </tr>\n",
       "  </tbody>\n",
       "</table>\n",
       "</div>"
      ],
      "text/plain": [
       "   rating  Count\n",
       "11  TV-MA   3211\n",
       "9   TV-14   2160\n",
       "12  TV-PG    863\n",
       "8       R    799\n",
       "7   PG-13    490"
      ]
     },
     "execution_count": 303,
     "metadata": {},
     "output_type": "execute_result"
    }
   ],
   "source": [
    "value_rating = final_data.groupby([\"rating\"])[\"show_id\"].nunique().to_frame().reset_index()\n",
    "value_rating.rename(columns = {\"show_id\":\"Count\"},inplace = True)\n",
    "value_rating.sort_values(by = \"Count\",inplace = True,ascending = False)\n",
    "value_rating.head()"
   ]
  },
  {
   "cell_type": "code",
   "execution_count": 304,
   "id": "8cf50d3c",
   "metadata": {},
   "outputs": [
    {
     "data": {
      "image/png": "[encoded data removed]",
      "text/plain": [
       "<Figure size 800x300 with 1 Axes>"
      ]
     },
     "metadata": {},
     "output_type": "display_data"
    }
   ],
   "source": [
    "\n",
    "plt.figure(figsize=(8,3))\n",
    "plt.title(\"Movie Ratings\",fontdict = {\"family\":\"Arial\",\"size\":10})\n",
    "sns.barplot(data = value_rating,x = \"rating\",y = \"Count\",width = 0.6,ec = \"k\")\n",
    "plt.xticks(rotation = 45)\n",
    "plt.show()"
   ]
  },
  {
   "cell_type": "markdown",
   "id": "20e2886f",
   "metadata": {},
   "source": [
    "**Insight :**\n",
    "\n",
    "1.Most Number of Movies or tv shows taken with the ratings TV-MA."
   ]
  },
  {
   "cell_type": "markdown",
   "id": "ffa2469a",
   "metadata": {},
   "source": [
    "#### Release Year"
   ]
  },
  {
   "cell_type": "code",
   "execution_count": 305,
   "id": "5ae1e5f4",
   "metadata": {},
   "outputs": [
    {
     "data": {
      "text/html": [
       "<div>\n",
       "<style scoped>\n",
       "    .dataframe tbody tr th:only-of-type {\n",
       "        vertical-align: middle;\n",
       "    }\n",
       "\n",
       "    .dataframe tbody tr th {\n",
       "        vertical-align: top;\n",
       "    }\n",
       "\n",
       "    .dataframe thead th {\n",
       "        text-align: right;\n",
       "    }\n",
       "</style>\n",
       "<table border=\"1\" class=\"dataframe\">\n",
       "  <thead>\n",
       "    <tr style=\"text-align: right;\">\n",
       "      <th></th>\n",
       "      <th>release_year</th>\n",
       "      <th>Count</th>\n",
       "    </tr>\n",
       "  </thead>\n",
       "  <tbody>\n",
       "    <tr>\n",
       "      <th>70</th>\n",
       "      <td>2018</td>\n",
       "      <td>1147</td>\n",
       "    </tr>\n",
       "    <tr>\n",
       "      <th>69</th>\n",
       "      <td>2017</td>\n",
       "      <td>1032</td>\n",
       "    </tr>\n",
       "    <tr>\n",
       "      <th>71</th>\n",
       "      <td>2019</td>\n",
       "      <td>1030</td>\n",
       "    </tr>\n",
       "    <tr>\n",
       "      <th>72</th>\n",
       "      <td>2020</td>\n",
       "      <td>953</td>\n",
       "    </tr>\n",
       "    <tr>\n",
       "      <th>68</th>\n",
       "      <td>2016</td>\n",
       "      <td>902</td>\n",
       "    </tr>\n",
       "  </tbody>\n",
       "</table>\n",
       "</div>"
      ],
      "text/plain": [
       "    release_year  Count\n",
       "70          2018   1147\n",
       "69          2017   1032\n",
       "71          2019   1030\n",
       "72          2020    953\n",
       "68          2016    902"
      ]
     },
     "execution_count": 305,
     "metadata": {},
     "output_type": "execute_result"
    }
   ],
   "source": [
    "value_release_year = final_data.groupby([\"release_year\"])[\"show_id\"].nunique().to_frame().reset_index()\n",
    "value_release_year.rename(columns = {\"show_id\":\"Count\"},inplace = True)\n",
    "value_release_year.sort_values(by = \"Count\",inplace = True,ascending = False)\n",
    "value_release_year.head()"
   ]
  },
  {
   "cell_type": "code",
   "execution_count": 306,
   "id": "79630e29",
   "metadata": {},
   "outputs": [
    {
     "data": {
      "image/png": "[encoded data removed]",
      "text/plain": [
       "<Figure size 1200x500 with 1 Axes>"
      ]
     },
     "metadata": {},
     "output_type": "display_data"
    }
   ],
   "source": [
    "sns.set_style(\"darkgrid\")\n",
    "\n",
    "plt.figure(figsize = (12,5))\n",
    "sns.barplot(data = value_release_year,x = \"release_year\",y = \"Count\",ec = \"k\")\n",
    "plt.title(\"Movie Release Year\",fontdict = {\"family\":\"Arial\",\"size\":10})\n",
    "plt.xlabel(\"Release year\",fontdict = {\"family\":\"Arial\",\"size\":10})\n",
    "plt.ylabel(\"Count\",fontdict = {\"family\":\"Arial\",\"size\":10})\n",
    "plt.xticks(rotation = 90,fontsize = 6)\n",
    "plt.show()"
   ]
  },
  {
   "cell_type": "markdown",
   "id": "cc0bb1a7",
   "metadata": {},
   "source": [
    "**Insights :**\n",
    "\n",
    "1.There is a gradual increase starts from the year 2008.\n",
    "\n",
    "2.More Number of Movies or Tv shows released in the year 2018."
   ]
  },
  {
   "cell_type": "markdown",
   "id": "bc67918f",
   "metadata": {},
   "source": [
    "#### Added Month"
   ]
  },
  {
   "cell_type": "code",
   "execution_count": 307,
   "id": "8d856ca2",
   "metadata": {
    "scrolled": true
   },
   "outputs": [
    {
     "data": {
      "text/html": [
       "<div>\n",
       "<style scoped>\n",
       "    .dataframe tbody tr th:only-of-type {\n",
       "        vertical-align: middle;\n",
       "    }\n",
       "\n",
       "    .dataframe tbody tr th {\n",
       "        vertical-align: top;\n",
       "    }\n",
       "\n",
       "    .dataframe thead th {\n",
       "        text-align: right;\n",
       "    }\n",
       "</style>\n",
       "<table border=\"1\" class=\"dataframe\">\n",
       "  <thead>\n",
       "    <tr style=\"text-align: right;\">\n",
       "      <th></th>\n",
       "      <th>5</th>\n",
       "      <th>2</th>\n",
       "      <th>11</th>\n",
       "      <th>0</th>\n",
       "      <th>10</th>\n",
       "      <th>1</th>\n",
       "      <th>4</th>\n",
       "      <th>7</th>\n",
       "      <th>6</th>\n",
       "      <th>9</th>\n",
       "      <th>8</th>\n",
       "      <th>3</th>\n",
       "    </tr>\n",
       "  </thead>\n",
       "  <tbody>\n",
       "    <tr>\n",
       "      <th>Month</th>\n",
       "      <td>July</td>\n",
       "      <td>December</td>\n",
       "      <td>September</td>\n",
       "      <td>April</td>\n",
       "      <td>October</td>\n",
       "      <td>August</td>\n",
       "      <td>January</td>\n",
       "      <td>March</td>\n",
       "      <td>June</td>\n",
       "      <td>November</td>\n",
       "      <td>May</td>\n",
       "      <td>February</td>\n",
       "    </tr>\n",
       "    <tr>\n",
       "      <th>Count</th>\n",
       "      <td>827</td>\n",
       "      <td>813</td>\n",
       "      <td>770</td>\n",
       "      <td>764</td>\n",
       "      <td>760</td>\n",
       "      <td>755</td>\n",
       "      <td>748</td>\n",
       "      <td>742</td>\n",
       "      <td>728</td>\n",
       "      <td>705</td>\n",
       "      <td>632</td>\n",
       "      <td>563</td>\n",
       "    </tr>\n",
       "  </tbody>\n",
       "</table>\n",
       "</div>"
      ],
      "text/plain": [
       "         5         2          11     0        10      1        4      7   \\\n",
       "Month  July  December  September  April  October  August  January  March   \n",
       "Count   827       813        770    764      760     755      748    742   \n",
       "\n",
       "         6         9    8         3   \n",
       "Month  June  November  May  February  \n",
       "Count   728       705  632       563  "
      ]
     },
     "execution_count": 307,
     "metadata": {},
     "output_type": "execute_result"
    }
   ],
   "source": [
    "value_month = final_data.groupby([\"Month\"])[\"show_id\"].nunique().to_frame().reset_index()\n",
    "value_month.rename(columns = {\"show_id\":\"Count\"},inplace = True)\n",
    "value_month.sort_values(by = \"Count\",inplace = True,ascending = False)\n",
    "value_month.transpose()"
   ]
  },
  {
   "cell_type": "code",
   "execution_count": 308,
   "id": "d14ff7ab",
   "metadata": {},
   "outputs": [
    {
     "data": {
      "image/png": "[encoded data removed]",
      "text/plain": [
       "<Figure size 1200x300 with 1 Axes>"
      ]
     },
     "metadata": {},
     "output_type": "display_data"
    }
   ],
   "source": [
    "plt.figure(figsize = (12,3))\n",
    "sns.barplot(data = value_month,x = \"Month\",y = \"Count\",palette = \"magma\",width = 0.4,ec = \"k\")\n",
    "plt.title(\"Movie added by Months\",{\"family\":\"Arial\",\"size\":10})\n",
    "plt.xlabel(\"Months\",fontdict = {\"family\":\"Arial\",\"size\":10})\n",
    "plt.ylabel(\"Count\",fontdict = {\"family\":\"Arial\",\"size\":10})\n",
    "plt.xticks(rotation = 0)\n",
    "plt.show()"
   ]
  },
  {
   "cell_type": "markdown",
   "id": "06776416",
   "metadata": {},
   "source": [
    "**Insights :** \n",
    "\n",
    "1.More number of Movies and Tv-shows added in the month July and December.\n",
    "\n",
    "2.Less number of Movies and Tv-shows added in the month February and May."
   ]
  },
  {
   "cell_type": "markdown",
   "id": "42efcd75",
   "metadata": {},
   "source": [
    "#### Added Year"
   ]
  },
  {
   "cell_type": "code",
   "execution_count": 309,
   "id": "7b080089",
   "metadata": {},
   "outputs": [
    {
     "data": {
      "text/html": [
       "<div>\n",
       "<style scoped>\n",
       "    .dataframe tbody tr th:only-of-type {\n",
       "        vertical-align: middle;\n",
       "    }\n",
       "\n",
       "    .dataframe tbody tr th {\n",
       "        vertical-align: top;\n",
       "    }\n",
       "\n",
       "    .dataframe thead th {\n",
       "        text-align: right;\n",
       "    }\n",
       "</style>\n",
       "<table border=\"1\" class=\"dataframe\">\n",
       "  <thead>\n",
       "    <tr style=\"text-align: right;\">\n",
       "      <th></th>\n",
       "      <th>Year</th>\n",
       "      <th>Count</th>\n",
       "    </tr>\n",
       "  </thead>\n",
       "  <tbody>\n",
       "    <tr>\n",
       "      <th>11</th>\n",
       "      <td>2019</td>\n",
       "      <td>2016</td>\n",
       "    </tr>\n",
       "    <tr>\n",
       "      <th>12</th>\n",
       "      <td>2020</td>\n",
       "      <td>1889</td>\n",
       "    </tr>\n",
       "    <tr>\n",
       "      <th>10</th>\n",
       "      <td>2018</td>\n",
       "      <td>1649</td>\n",
       "    </tr>\n",
       "    <tr>\n",
       "      <th>13</th>\n",
       "      <td>2021</td>\n",
       "      <td>1498</td>\n",
       "    </tr>\n",
       "    <tr>\n",
       "      <th>9</th>\n",
       "      <td>2017</td>\n",
       "      <td>1188</td>\n",
       "    </tr>\n",
       "  </tbody>\n",
       "</table>\n",
       "</div>"
      ],
      "text/plain": [
       "    Year  Count\n",
       "11  2019   2016\n",
       "12  2020   1889\n",
       "10  2018   1649\n",
       "13  2021   1498\n",
       "9   2017   1188"
      ]
     },
     "execution_count": 309,
     "metadata": {},
     "output_type": "execute_result"
    }
   ],
   "source": [
    "value_year = final_data.groupby([\"Year\"])[\"show_id\"].nunique().to_frame().reset_index()\n",
    "value_year.rename(columns = {\"show_id\":\"Count\"},inplace = True)\n",
    "value_year.sort_values(by = \"Count\",inplace = True,ascending = False)\n",
    "value_year.head()"
   ]
  },
  {
   "cell_type": "code",
   "execution_count": 310,
   "id": "7d45ab4c",
   "metadata": {},
   "outputs": [
    {
     "data": {
      "image/png": "[encoded data removed]",
      "text/plain": [
       "<Figure size 800x300 with 1 Axes>"
      ]
     },
     "metadata": {},
     "output_type": "display_data"
    }
   ],
   "source": [
    "plt.figure(figsize=(8,3))\n",
    "sns.barplot(data = value_year,x = \"Year\",y = \"Count\",ec = \"k\")\n",
    "plt.show()"
   ]
  },
  {
   "cell_type": "markdown",
   "id": "8ca815de",
   "metadata": {},
   "source": [
    "**Insights :**\n",
    "\n",
    "1.There are more number of Movies or Tv shows added in the year 2019."
   ]
  },
  {
   "cell_type": "markdown",
   "id": "9162146c",
   "metadata": {},
   "source": [
    "#### Added Day"
   ]
  },
  {
   "cell_type": "code",
   "execution_count": 311,
   "id": "7d6bd962",
   "metadata": {},
   "outputs": [
    {
     "data": {
      "text/html": [
       "<div>\n",
       "<style scoped>\n",
       "    .dataframe tbody tr th:only-of-type {\n",
       "        vertical-align: middle;\n",
       "    }\n",
       "\n",
       "    .dataframe tbody tr th {\n",
       "        vertical-align: top;\n",
       "    }\n",
       "\n",
       "    .dataframe thead th {\n",
       "        text-align: right;\n",
       "    }\n",
       "</style>\n",
       "<table border=\"1\" class=\"dataframe\">\n",
       "  <thead>\n",
       "    <tr style=\"text-align: right;\">\n",
       "      <th></th>\n",
       "      <th>Days</th>\n",
       "      <th>Count</th>\n",
       "    </tr>\n",
       "  </thead>\n",
       "  <tbody>\n",
       "    <tr>\n",
       "      <th>0</th>\n",
       "      <td>Friday</td>\n",
       "      <td>2498</td>\n",
       "    </tr>\n",
       "    <tr>\n",
       "      <th>4</th>\n",
       "      <td>Thursday</td>\n",
       "      <td>1396</td>\n",
       "    </tr>\n",
       "    <tr>\n",
       "      <th>6</th>\n",
       "      <td>Wednesday</td>\n",
       "      <td>1298</td>\n",
       "    </tr>\n",
       "    <tr>\n",
       "      <th>5</th>\n",
       "      <td>Tuesday</td>\n",
       "      <td>1197</td>\n",
       "    </tr>\n",
       "    <tr>\n",
       "      <th>1</th>\n",
       "      <td>Monday</td>\n",
       "      <td>851</td>\n",
       "    </tr>\n",
       "    <tr>\n",
       "      <th>2</th>\n",
       "      <td>Saturday</td>\n",
       "      <td>816</td>\n",
       "    </tr>\n",
       "    <tr>\n",
       "      <th>3</th>\n",
       "      <td>Sunday</td>\n",
       "      <td>751</td>\n",
       "    </tr>\n",
       "  </tbody>\n",
       "</table>\n",
       "</div>"
      ],
      "text/plain": [
       "        Days  Count\n",
       "0     Friday   2498\n",
       "4   Thursday   1396\n",
       "6  Wednesday   1298\n",
       "5    Tuesday   1197\n",
       "1     Monday    851\n",
       "2   Saturday    816\n",
       "3     Sunday    751"
      ]
     },
     "execution_count": 311,
     "metadata": {},
     "output_type": "execute_result"
    }
   ],
   "source": [
    "value_days = final_data.groupby([\"Days\"])[\"show_id\"].nunique().to_frame().reset_index()\n",
    "value_days.rename(columns = {\"show_id\":\"Count\"},inplace = True)\n",
    "value_days.sort_values(by = \"Count\",inplace = True,ascending = False)\n",
    "value_days"
   ]
  },
  {
   "cell_type": "code",
   "execution_count": 312,
   "id": "1f46bd57",
   "metadata": {},
   "outputs": [
    {
     "data": {
      "image/png": "[encoded data removed]",
      "text/plain": [
       "<Figure size 1000x500 with 1 Axes>"
      ]
     },
     "metadata": {},
     "output_type": "display_data"
    }
   ],
   "source": [
    "plt.figure(figsize = (10,5))\n",
    "sns.barplot(data = value_days,x = \"Days\",y = \"Count\",palette = \"magma\",width = 0.5,ec = \"k\")\n",
    "plt.title(\"Movie added by Day\",{\"family\":\"Arial\",\"size\":10})\n",
    "plt.xlabel(\"Days\",fontdict = {\"family\":\"Arial\",\"size\":10})\n",
    "plt.ylabel(\"Count\",fontdict = {\"family\":\"Arial\",\"size\":10})\n",
    "plt.show()"
   ]
  },
  {
   "cell_type": "markdown",
   "id": "e72408c3",
   "metadata": {},
   "source": [
    "**Insights :**\n",
    "\n",
    "1.Most number of Movies or Tv shows added in Friday.\n",
    "\n",
    "2.Least number of  Movies or Tv shows added in Sunday."
   ]
  },
  {
   "cell_type": "markdown",
   "id": "8d541f33",
   "metadata": {},
   "source": [
    "#### Genre and Director Relation :-"
   ]
  },
  {
   "cell_type": "code",
   "execution_count": 313,
   "id": "6132a7fb",
   "metadata": {},
   "outputs": [
    {
     "data": {
      "text/html": [
       "<div>\n",
       "<style scoped>\n",
       "    .dataframe tbody tr th:only-of-type {\n",
       "        vertical-align: middle;\n",
       "    }\n",
       "\n",
       "    .dataframe tbody tr th {\n",
       "        vertical-align: top;\n",
       "    }\n",
       "\n",
       "    .dataframe thead th {\n",
       "        text-align: right;\n",
       "    }\n",
       "</style>\n",
       "<table border=\"1\" class=\"dataframe\">\n",
       "  <thead>\n",
       "    <tr style=\"text-align: right;\">\n",
       "      <th></th>\n",
       "      <th>Genre</th>\n",
       "      <th>Director</th>\n",
       "    </tr>\n",
       "  </thead>\n",
       "  <tbody>\n",
       "    <tr>\n",
       "      <th>16</th>\n",
       "      <td>International Movies</td>\n",
       "      <td>2219</td>\n",
       "    </tr>\n",
       "    <tr>\n",
       "      <th>12</th>\n",
       "      <td>Dramas</td>\n",
       "      <td>2034</td>\n",
       "    </tr>\n",
       "    <tr>\n",
       "      <th>7</th>\n",
       "      <td>Comedies</td>\n",
       "      <td>1394</td>\n",
       "    </tr>\n",
       "    <tr>\n",
       "      <th>10</th>\n",
       "      <td>Documentaries</td>\n",
       "      <td>859</td>\n",
       "    </tr>\n",
       "    <tr>\n",
       "      <th>15</th>\n",
       "      <td>Independent Movies</td>\n",
       "      <td>787</td>\n",
       "    </tr>\n",
       "  </tbody>\n",
       "</table>\n",
       "</div>"
      ],
      "text/plain": [
       "                   Genre  Director\n",
       "16  International Movies      2219\n",
       "12                Dramas      2034\n",
       "7               Comedies      1394\n",
       "10         Documentaries       859\n",
       "15    Independent Movies       787"
      ]
     },
     "execution_count": 313,
     "metadata": {},
     "output_type": "execute_result"
    }
   ],
   "source": [
    "gd_relation = final_data.groupby([\"Genre\"])[\"Director\"].nunique().to_frame().reset_index()\n",
    "gd_relation.sort_values(by = \"Director\",inplace = True,ascending = False)\n",
    "gd_relation.head()"
   ]
  },
  {
   "cell_type": "code",
   "execution_count": 314,
   "id": "0677a985",
   "metadata": {
    "scrolled": false
   },
   "outputs": [
    {
     "data": {
      "image/png": "[encoded data removed]",
      "text/plain": [
       "<Figure size 1200x500 with 1 Axes>"
      ]
     },
     "metadata": {},
     "output_type": "display_data"
    }
   ],
   "source": [
    "plt.figure(figsize = (12,5))\n",
    "sns.barplot(data = gd_relation,x = \"Genre\",y = \"Director\",ec = \"k\")\n",
    "plt.xticks(rotation = 90)\n",
    "plt.ylabel(\"Director's Count\")\n",
    "plt.show()"
   ]
  },
  {
   "cell_type": "markdown",
   "id": "57604d46",
   "metadata": {},
   "source": [
    "**Insights :**\n",
    "\n",
    "1.More number of directors directed the International Movies and followed by Dramas.\n",
    "\n",
    "2.Teen Tv shows was directed by least number of directors."
   ]
  },
  {
   "cell_type": "markdown",
   "id": "add59026",
   "metadata": {},
   "source": [
    "#### Cast and Genre Relation"
   ]
  },
  {
   "cell_type": "code",
   "execution_count": 315,
   "id": "fc1df0cf",
   "metadata": {},
   "outputs": [
    {
     "data": {
      "text/html": [
       "<div>\n",
       "<style scoped>\n",
       "    .dataframe tbody tr th:only-of-type {\n",
       "        vertical-align: middle;\n",
       "    }\n",
       "\n",
       "    .dataframe tbody tr th {\n",
       "        vertical-align: top;\n",
       "    }\n",
       "\n",
       "    .dataframe thead th {\n",
       "        text-align: right;\n",
       "    }\n",
       "</style>\n",
       "<table border=\"1\" class=\"dataframe\">\n",
       "  <thead>\n",
       "    <tr style=\"text-align: right;\">\n",
       "      <th></th>\n",
       "      <th>Cast</th>\n",
       "      <th>Count</th>\n",
       "    </tr>\n",
       "  </thead>\n",
       "  <tbody>\n",
       "    <tr>\n",
       "      <th>7832</th>\n",
       "      <td>David Attenborough</td>\n",
       "      <td>40</td>\n",
       "    </tr>\n",
       "    <tr>\n",
       "      <th>28716</th>\n",
       "      <td>Ron Perlman</td>\n",
       "      <td>17</td>\n",
       "    </tr>\n",
       "    <tr>\n",
       "      <th>18153</th>\n",
       "      <td>Kiernan Shipka</td>\n",
       "      <td>16</td>\n",
       "    </tr>\n",
       "    <tr>\n",
       "      <th>11174</th>\n",
       "      <td>Gary Cole</td>\n",
       "      <td>16</td>\n",
       "    </tr>\n",
       "    <tr>\n",
       "      <th>11641</th>\n",
       "      <td>Glenn Close</td>\n",
       "      <td>15</td>\n",
       "    </tr>\n",
       "  </tbody>\n",
       "</table>\n",
       "</div>"
      ],
      "text/plain": [
       "                     Cast  Count\n",
       "7832   David Attenborough     40\n",
       "28716         Ron Perlman     17\n",
       "18153      Kiernan Shipka     16\n",
       "11174           Gary Cole     16\n",
       "11641         Glenn Close     15"
      ]
     },
     "execution_count": 315,
     "metadata": {},
     "output_type": "execute_result"
    }
   ],
   "source": [
    "cg_relation = final_data.groupby([\"Cast\"])[\"Genre\"].nunique().to_frame().reset_index()\n",
    "cg_relation.rename(columns = {\"Genre\":\"Count\"},inplace = True)\n",
    "cg_relation.sort_values(by = \"Count\",inplace = True,ascending = False)\n",
    "cg_relation.head()"
   ]
  },
  {
   "cell_type": "markdown",
   "id": "016446b8",
   "metadata": {},
   "source": [
    "**Insights :**\n",
    "\n",
    "1.Actor David Attenborough acted more number of Movies or Tv shows.\n",
    "\n",
    "2.Some of the Actors are acted only in one Movies or Tv shows."
   ]
  },
  {
   "cell_type": "markdown",
   "id": "3afe85f8",
   "metadata": {},
   "source": [
    "#### Type and rating Relation"
   ]
  },
  {
   "cell_type": "code",
   "execution_count": 316,
   "id": "87612a90",
   "metadata": {},
   "outputs": [
    {
     "data": {
      "text/html": [
       "<div>\n",
       "<style scoped>\n",
       "    .dataframe tbody tr th:only-of-type {\n",
       "        vertical-align: middle;\n",
       "    }\n",
       "\n",
       "    .dataframe tbody tr th {\n",
       "        vertical-align: top;\n",
       "    }\n",
       "\n",
       "    .dataframe thead th {\n",
       "        text-align: right;\n",
       "    }\n",
       "</style>\n",
       "<table border=\"1\" class=\"dataframe\">\n",
       "  <thead>\n",
       "    <tr style=\"text-align: right;\">\n",
       "      <th></th>\n",
       "      <th>type</th>\n",
       "      <th>rating</th>\n",
       "      <th>Count</th>\n",
       "    </tr>\n",
       "  </thead>\n",
       "  <tbody>\n",
       "    <tr>\n",
       "      <th>11</th>\n",
       "      <td>Movie</td>\n",
       "      <td>TV-MA</td>\n",
       "      <td>2064</td>\n",
       "    </tr>\n",
       "    <tr>\n",
       "      <th>9</th>\n",
       "      <td>Movie</td>\n",
       "      <td>TV-14</td>\n",
       "      <td>1427</td>\n",
       "    </tr>\n",
       "    <tr>\n",
       "      <th>28</th>\n",
       "      <td>TV Show</td>\n",
       "      <td>TV-MA</td>\n",
       "      <td>1147</td>\n",
       "    </tr>\n",
       "    <tr>\n",
       "      <th>8</th>\n",
       "      <td>Movie</td>\n",
       "      <td>R</td>\n",
       "      <td>797</td>\n",
       "    </tr>\n",
       "    <tr>\n",
       "      <th>26</th>\n",
       "      <td>TV Show</td>\n",
       "      <td>TV-14</td>\n",
       "      <td>733</td>\n",
       "    </tr>\n",
       "  </tbody>\n",
       "</table>\n",
       "</div>"
      ],
      "text/plain": [
       "       type rating  Count\n",
       "11    Movie  TV-MA   2064\n",
       "9     Movie  TV-14   1427\n",
       "28  TV Show  TV-MA   1147\n",
       "8     Movie      R    797\n",
       "26  TV Show  TV-14    733"
      ]
     },
     "execution_count": 316,
     "metadata": {},
     "output_type": "execute_result"
    }
   ],
   "source": [
    "type_rate = final_data.groupby([\"type\",\"rating\"])[\"title\"].nunique().reset_index()\n",
    "type_rate.sort_values(by = \"title\",ascending = False,inplace = True)\n",
    "type_rate.rename(columns = {\"title\":\"Count\"},inplace = True)\n",
    "type_rate.head()"
   ]
  },
  {
   "cell_type": "code",
   "execution_count": 317,
   "id": "360d2e17",
   "metadata": {},
   "outputs": [
    {
     "data": {
      "image/png": "[encoded data removed]",
      "text/plain": [
       "<Figure size 1200x500 with 1 Axes>"
      ]
     },
     "metadata": {},
     "output_type": "display_data"
    }
   ],
   "source": [
    "plt.figure(figsize = (12,5))\n",
    "sns.barplot(data = type_rate,x = \"rating\",y = \"Count\",hue = \"type\",palette = \"magma\",ec = \"k\")\n",
    "plt.show()"
   ]
  },
  {
   "cell_type": "markdown",
   "id": "2b183435",
   "metadata": {},
   "source": [
    "**Insights :**\n",
    "\n",
    "1.Movies and Tv shows are having more number of counts in the TV-MA rating followed by TV-14."
   ]
  },
  {
   "cell_type": "markdown",
   "id": "31a8bd22",
   "metadata": {},
   "source": [
    "#### Release year and Added Year"
   ]
  },
  {
   "cell_type": "code",
   "execution_count": 318,
   "id": "e5e635e7",
   "metadata": {},
   "outputs": [
    {
     "data": {
      "image/png": "[encoded data removed]",
      "text/plain": [
       "<Figure size 640x480 with 1 Axes>"
      ]
     },
     "metadata": {},
     "output_type": "display_data"
    }
   ],
   "source": [
    "np.random.seed(42)\n",
    "\n",
    "lists = [\"International Movies\", \"Dramas\", \"Comedies\", \"International TV Shows\",\n",
    "         \"Documentaries\", \"Action & Adventure\", \"TV Dramas\", \"Independent Movies\",\n",
    "         \"Children & Family Movies\", \"Romantic Movies\"]\n",
    "\n",
    "selected_rows = []\n",
    "for genre in lists:\n",
    "    filtered_df = final_data[final_data['Genre'] == genre]\n",
    "    sampled_rows = filtered_df.sample(n=10, replace=True)  \n",
    "    selected_rows.append(sampled_rows)\n",
    "\n",
    "result_df = pd.concat(selected_rows)\n",
    "result = pd.DataFrame(result_df)\n",
    "\n",
    "re_year = result.groupby([\"release_year\", \"Year\", \"Genre\"])[\"title\"].nunique().reset_index()\n",
    "re_year.sort_values(by=\"Year\", ascending=False, inplace=True)\n",
    "\n",
    "sns.scatterplot(data=re_year, x=\"Year\", y=\"release_year\", hue=\"Genre\", palette=\"magma\")\n",
    "plt.legend(bbox_to_anchor=(1, 1))\n",
    "\n",
    "plt.show()"
   ]
  },
  {
   "cell_type": "markdown",
   "id": "4a2c443b",
   "metadata": {},
   "source": [
    "#### Type and Days Relation"
   ]
  },
  {
   "cell_type": "code",
   "execution_count": 319,
   "id": "9fc3aa7f",
   "metadata": {},
   "outputs": [
    {
     "data": {
      "text/html": [
       "<div>\n",
       "<style scoped>\n",
       "    .dataframe tbody tr th:only-of-type {\n",
       "        vertical-align: middle;\n",
       "    }\n",
       "\n",
       "    .dataframe tbody tr th {\n",
       "        vertical-align: top;\n",
       "    }\n",
       "\n",
       "    .dataframe thead th {\n",
       "        text-align: right;\n",
       "    }\n",
       "</style>\n",
       "<table border=\"1\" class=\"dataframe\">\n",
       "  <thead>\n",
       "    <tr style=\"text-align: right;\">\n",
       "      <th></th>\n",
       "      <th>type</th>\n",
       "      <th>Days</th>\n",
       "      <th>Count</th>\n",
       "    </tr>\n",
       "  </thead>\n",
       "  <tbody>\n",
       "    <tr>\n",
       "      <th>0</th>\n",
       "      <td>Movie</td>\n",
       "      <td>Friday</td>\n",
       "      <td>1566</td>\n",
       "    </tr>\n",
       "    <tr>\n",
       "      <th>4</th>\n",
       "      <td>Movie</td>\n",
       "      <td>Thursday</td>\n",
       "      <td>1053</td>\n",
       "    </tr>\n",
       "    <tr>\n",
       "      <th>7</th>\n",
       "      <td>TV Show</td>\n",
       "      <td>Friday</td>\n",
       "      <td>932</td>\n",
       "    </tr>\n",
       "    <tr>\n",
       "      <th>6</th>\n",
       "      <td>Movie</td>\n",
       "      <td>Wednesday</td>\n",
       "      <td>906</td>\n",
       "    </tr>\n",
       "    <tr>\n",
       "      <th>5</th>\n",
       "      <td>Movie</td>\n",
       "      <td>Tuesday</td>\n",
       "      <td>852</td>\n",
       "    </tr>\n",
       "  </tbody>\n",
       "</table>\n",
       "</div>"
      ],
      "text/plain": [
       "      type       Days  Count\n",
       "0    Movie     Friday   1566\n",
       "4    Movie   Thursday   1053\n",
       "7  TV Show     Friday    932\n",
       "6    Movie  Wednesday    906\n",
       "5    Movie    Tuesday    852"
      ]
     },
     "execution_count": 319,
     "metadata": {},
     "output_type": "execute_result"
    }
   ],
   "source": [
    "type_day = final_data.groupby([\"type\",\"Days\"])[\"title\"].nunique().reset_index()\n",
    "type_day.rename(columns = {\"title\":\"Count\"},inplace = True)\n",
    "type_day.sort_values(by = [\"Count\",\"Days\"],ascending = False,inplace = True)\n",
    "type_day.head()"
   ]
  },
  {
   "cell_type": "code",
   "execution_count": 320,
   "id": "16017a9c",
   "metadata": {},
   "outputs": [
    {
     "data": {
      "image/png": "[encoded data removed]",
      "text/plain": [
       "<Figure size 640x480 with 1 Axes>"
      ]
     },
     "metadata": {},
     "output_type": "display_data"
    }
   ],
   "source": [
    "sns.barplot(data = type_day,x = \"Days\",y = \"Count\",hue = \"type\",palette = \"magma\",ec = \"k\")\n",
    "plt.show()"
   ]
  },
  {
   "cell_type": "markdown",
   "id": "84260597",
   "metadata": {},
   "source": [
    "**Insights :**\n",
    "\n",
    "1.Comparatively Movies are Highly added when compared to Tv shows.\n",
    "\n",
    "2.In this, Movies are highly added in the days of Friday and Thursday compared to Tv shows."
   ]
  },
  {
   "cell_type": "markdown",
   "id": "d21bf893",
   "metadata": {},
   "source": [
    "#### Type and Month relation"
   ]
  },
  {
   "cell_type": "code",
   "execution_count": 321,
   "id": "99ccf3de",
   "metadata": {},
   "outputs": [
    {
     "data": {
      "text/html": [
       "<div>\n",
       "<style scoped>\n",
       "    .dataframe tbody tr th:only-of-type {\n",
       "        vertical-align: middle;\n",
       "    }\n",
       "\n",
       "    .dataframe tbody tr th {\n",
       "        vertical-align: top;\n",
       "    }\n",
       "\n",
       "    .dataframe thead th {\n",
       "        text-align: right;\n",
       "    }\n",
       "</style>\n",
       "<table border=\"1\" class=\"dataframe\">\n",
       "  <thead>\n",
       "    <tr style=\"text-align: right;\">\n",
       "      <th></th>\n",
       "      <th>type</th>\n",
       "      <th>Month</th>\n",
       "      <th>Count</th>\n",
       "    </tr>\n",
       "  </thead>\n",
       "  <tbody>\n",
       "    <tr>\n",
       "      <th>5</th>\n",
       "      <td>Movie</td>\n",
       "      <td>July</td>\n",
       "      <td>565</td>\n",
       "    </tr>\n",
       "    <tr>\n",
       "      <th>0</th>\n",
       "      <td>Movie</td>\n",
       "      <td>April</td>\n",
       "      <td>550</td>\n",
       "    </tr>\n",
       "    <tr>\n",
       "      <th>2</th>\n",
       "      <td>Movie</td>\n",
       "      <td>December</td>\n",
       "      <td>547</td>\n",
       "    </tr>\n",
       "    <tr>\n",
       "      <th>4</th>\n",
       "      <td>Movie</td>\n",
       "      <td>January</td>\n",
       "      <td>546</td>\n",
       "    </tr>\n",
       "    <tr>\n",
       "      <th>10</th>\n",
       "      <td>Movie</td>\n",
       "      <td>October</td>\n",
       "      <td>545</td>\n",
       "    </tr>\n",
       "  </tbody>\n",
       "</table>\n",
       "</div>"
      ],
      "text/plain": [
       "     type     Month  Count\n",
       "5   Movie      July    565\n",
       "0   Movie     April    550\n",
       "2   Movie  December    547\n",
       "4   Movie   January    546\n",
       "10  Movie   October    545"
      ]
     },
     "execution_count": 321,
     "metadata": {},
     "output_type": "execute_result"
    }
   ],
   "source": [
    "type_month = final_data.groupby([\"type\",\"Month\"])[\"title\"].nunique().reset_index()\n",
    "type_month.sort_values(by = [\"title\",\"Month\"],ascending = [False,False],inplace = True)\n",
    "type_month.rename(columns = {\"title\":\"Count\"},inplace = True)\n",
    "type_month.head(5)"
   ]
  },
  {
   "cell_type": "code",
   "execution_count": 322,
   "id": "d46ce47a",
   "metadata": {},
   "outputs": [
    {
     "data": {
      "image/png": "[encoded data removed]",
      "text/plain": [
       "<Figure size 1000x300 with 1 Axes>"
      ]
     },
     "metadata": {},
     "output_type": "display_data"
    }
   ],
   "source": [
    "plt.figure(figsize = (10,3))\n",
    "sns.lineplot(data = type_month,x = \"Month\",y = \"Count\",hue = \"type\",palette = \"magma\",marker='o')\n",
    "plt.legend(bbox_to_anchor = (1,1))\n",
    "plt.show()"
   ]
  },
  {
   "cell_type": "markdown",
   "id": "628f639a",
   "metadata": {},
   "source": [
    "**Insights :**\n",
    "\n",
    "1.Most number of Movies added in the month of July and Tv shows in December.\n",
    "\n",
    "2.Least number of Movies and Tv shows added in the month February."
   ]
  },
  {
   "cell_type": "markdown",
   "id": "79d1c47c",
   "metadata": {},
   "source": [
    "#### Country and Release year Relation"
   ]
  },
  {
   "cell_type": "code",
   "execution_count": 323,
   "id": "60daa9ed",
   "metadata": {},
   "outputs": [
    {
     "data": {
      "text/html": [
       "<div>\n",
       "<style scoped>\n",
       "    .dataframe tbody tr th:only-of-type {\n",
       "        vertical-align: middle;\n",
       "    }\n",
       "\n",
       "    .dataframe tbody tr th {\n",
       "        vertical-align: top;\n",
       "    }\n",
       "\n",
       "    .dataframe thead th {\n",
       "        text-align: right;\n",
       "    }\n",
       "</style>\n",
       "<table border=\"1\" class=\"dataframe\">\n",
       "  <thead>\n",
       "    <tr style=\"text-align: right;\">\n",
       "      <th></th>\n",
       "      <th>Country</th>\n",
       "      <th>release_year</th>\n",
       "      <th>Count</th>\n",
       "    </tr>\n",
       "  </thead>\n",
       "  <tbody>\n",
       "    <tr>\n",
       "      <th>1074</th>\n",
       "      <td>United States</td>\n",
       "      <td>2018</td>\n",
       "      <td>565</td>\n",
       "    </tr>\n",
       "    <tr>\n",
       "      <th>1075</th>\n",
       "      <td>United States</td>\n",
       "      <td>2019</td>\n",
       "      <td>545</td>\n",
       "    </tr>\n",
       "    <tr>\n",
       "      <th>1073</th>\n",
       "      <td>United States</td>\n",
       "      <td>2017</td>\n",
       "      <td>508</td>\n",
       "    </tr>\n",
       "    <tr>\n",
       "      <th>1076</th>\n",
       "      <td>United States</td>\n",
       "      <td>2020</td>\n",
       "      <td>485</td>\n",
       "    </tr>\n",
       "    <tr>\n",
       "      <th>1072</th>\n",
       "      <td>United States</td>\n",
       "      <td>2016</td>\n",
       "      <td>412</td>\n",
       "    </tr>\n",
       "  </tbody>\n",
       "</table>\n",
       "</div>"
      ],
      "text/plain": [
       "            Country  release_year  Count\n",
       "1074  United States          2018    565\n",
       "1075  United States          2019    545\n",
       "1073  United States          2017    508\n",
       "1076  United States          2020    485\n",
       "1072  United States          2016    412"
      ]
     },
     "execution_count": 323,
     "metadata": {},
     "output_type": "execute_result"
    }
   ],
   "source": [
    "country_year = final_data.groupby([\"Country\",\"release_year\"])[\"title\"].nunique().reset_index()\n",
    "country_year.rename(columns = {\"title\":\"Count\"},inplace = True)\n",
    "country_year.sort_values(by = [\"Count\"],ascending = False ,inplace = True)\n",
    "country_year.head()"
   ]
  },
  {
   "cell_type": "markdown",
   "id": "63595f65",
   "metadata": {},
   "source": [
    "**Insights :**\n",
    "\n",
    "1.United States having Top count on movies released in the year 2018 and followed by 2019.\n",
    "\n",
    "2.Romaina and Qatar had the least number of movies released."
   ]
  },
  {
   "cell_type": "markdown",
   "id": "26ce11fb",
   "metadata": {},
   "source": [
    "#### Heatmap Analysis"
   ]
  },
  {
   "cell_type": "code",
   "execution_count": 324,
   "id": "10d723b6",
   "metadata": {},
   "outputs": [
    {
     "data": {
      "text/html": [
       "<div>\n",
       "<style scoped>\n",
       "    .dataframe tbody tr th:only-of-type {\n",
       "        vertical-align: middle;\n",
       "    }\n",
       "\n",
       "    .dataframe tbody tr th {\n",
       "        vertical-align: top;\n",
       "    }\n",
       "\n",
       "    .dataframe thead th {\n",
       "        text-align: right;\n",
       "    }\n",
       "</style>\n",
       "<table border=\"1\" class=\"dataframe\">\n",
       "  <thead>\n",
       "    <tr style=\"text-align: right;\">\n",
       "      <th></th>\n",
       "      <th>release_year</th>\n",
       "      <th>Year</th>\n",
       "      <th>Count</th>\n",
       "    </tr>\n",
       "  </thead>\n",
       "  <tbody>\n",
       "    <tr>\n",
       "      <th>0</th>\n",
       "      <td>1925</td>\n",
       "      <td>2018</td>\n",
       "      <td>1</td>\n",
       "    </tr>\n",
       "    <tr>\n",
       "      <th>1</th>\n",
       "      <td>1942</td>\n",
       "      <td>2017</td>\n",
       "      <td>2</td>\n",
       "    </tr>\n",
       "    <tr>\n",
       "      <th>2</th>\n",
       "      <td>1943</td>\n",
       "      <td>2017</td>\n",
       "      <td>3</td>\n",
       "    </tr>\n",
       "    <tr>\n",
       "      <th>3</th>\n",
       "      <td>1944</td>\n",
       "      <td>2017</td>\n",
       "      <td>3</td>\n",
       "    </tr>\n",
       "    <tr>\n",
       "      <th>4</th>\n",
       "      <td>1945</td>\n",
       "      <td>2017</td>\n",
       "      <td>3</td>\n",
       "    </tr>\n",
       "  </tbody>\n",
       "</table>\n",
       "</div>"
      ],
      "text/plain": [
       "   release_year  Year  Count\n",
       "0          1925  2018      1\n",
       "1          1942  2017      2\n",
       "2          1943  2017      3\n",
       "3          1944  2017      3\n",
       "4          1945  2017      3"
      ]
     },
     "execution_count": 324,
     "metadata": {},
     "output_type": "execute_result"
    }
   ],
   "source": [
    "release_year = final_data.groupby([\"release_year\",\"Year\"])[\"title\"].nunique().reset_index()\n",
    "release_year.rename(columns = {\"title\":\"Count\"},inplace = True)\n",
    "release_year.head()"
   ]
  },
  {
   "cell_type": "code",
   "execution_count": 325,
   "id": "c103f0c2",
   "metadata": {},
   "outputs": [
    {
     "data": {
      "image/png": "[encoded data removed]",
      "text/plain": [
       "<Figure size 640x480 with 2 Axes>"
      ]
     },
     "metadata": {},
     "output_type": "display_data"
    }
   ],
   "source": [
    "heat_analysis = final_data[[\"release_year\",\"Year\"]].corr()\n",
    "sns.heatmap(heat_analysis,annot = True)\n",
    "plt.show()"
   ]
  },
  {
   "cell_type": "markdown",
   "id": "f9e3358e",
   "metadata": {},
   "source": [
    "**Insights :**\n",
    "\n",
    "Clearly the release year and date added year are not correlated."
   ]
  },
  {
   "cell_type": "markdown",
   "id": "478922e2",
   "metadata": {},
   "source": [
    "### Business Insights :\n",
    "    \n",
    "• There are more Movies produced than tvshows by netflix.\n",
    "\n",
    "• In 25% of countries netflix have produced only 1 tvshow/movies.\n",
    "\n",
    "• United States of America has highest number of tvshows/movies produced by netflix.\n",
    "\n",
    "• Almost 75% of directors have directed only 1 shows produced by netflix.\n",
    "\n",
    "• Almost 65% of actors have acted only 1 shows produced by netflix.\n",
    "\n",
    "• Netflix has mostly film which are released between 2016 and 2021.\n",
    "\n",
    "• July and December netflix have added more movies and may and february the least.\n",
    "• Netflix has been consistent in adding movies after 2005.\n",
    "\n",
    "• There are more movies/Tvshows in netflix that corresponds to international movies and in\u0002ternational TV shows which are not rooted to a particular culture.\n",
    "\n",
    "• Netflix follows same genre pattern type in Movies and TVShow.\n",
    "\n",
    "• After 2019 peak there is decrease in number of shows added compared to 2019 which many\n",
    "attribute to covid or any other external reasons.\n",
    "\n",
    "• Here in some of the countries we can see the netflix has not added regularly after entering\n",
    "the countries market.Example : In Panama after 2017 there are no shows added by netflix.\n",
    "\n",
    "• The actors who have more movies count are having less or nil number of their TVShows\n",
    "presence.\n",
    "\n",
    "\n"
   ]
  },
  {
   "cell_type": "markdown",
   "id": "583e91af",
   "metadata": {},
   "source": [
    "### Recommendations :\n",
    "\n",
    "• There are some countries in which Netflix have produced either movies or tvshows only not\n",
    "both .It is recommended to produce both movies and TVshows to those countries because it\n",
    "has genres like “International Movies” and “International TvShows” which can be first step\n",
    "in setting up its brand in those countries.\n",
    "\n",
    "• Adding consistent content yearly in countries where there is intermittent addition of content\n",
    "can set Netflix brands in those country.\n",
    "\n",
    "• Apart from International Movies and International TvShows Genre,Netflix can concentrate\n",
    "to produce other Genre content relative to the country so that it can have solid foundations\n",
    "in already established countries.\n",
    "\n",
    "• Producing TV Shows for actors like Anupam Kher who has most appearance in Movies also\n",
    "can increase the hype of audience and they would love to see their hero in Reality shows.\n",
    "\n",
    "• Also producing more movies for good director / good actor even though they did not have\n",
    "presence before can make actors/directors to be the face of Netflix and can increase its brand\n",
    "name.Because arround 75% of directors have only 1 shows to their name in netflix.This can\n",
    "affect people sometimes because the audience are attracted by directors/actors in first place.So\n",
    "producing repeated directors of good content can help Netflix.\n",
    "\n",
    "• Since USA have most number of entries,introducing newgenres will recieve welcoming hand\n",
    "from audience as they are already in bond with Netflix.\n",
    "\n",
    "• In India,the movie and tvshows ratio differs by 10 times.Introducing more TV shows which\n",
    "have similar genre of Movies in India can help Netflix."
   ]
  }
 ],
 "metadata": {
  "kernelspec": {
   "display_name": "Python 3 (ipykernel)",
   "language": "python",
   "name": "python3"
  },
  "language_info": {
   "codemirror_mode": {
    "name": "ipython",
    "version": 3
   },
   "file_extension": ".py",
   "mimetype": "text/x-python",
   "name": "python",
   "nbconvert_exporter": "python",
   "pygments_lexer": "ipython3",
   "version": "3.10.9"
  }
 },
 "nbformat": 4,
 "nbformat_minor": 5
}
